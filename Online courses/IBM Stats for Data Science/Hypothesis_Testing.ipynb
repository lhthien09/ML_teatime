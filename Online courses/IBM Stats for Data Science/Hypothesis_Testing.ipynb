{
  "metadata": {
    "language_info": {
      "codemirror_mode": {
        "name": "python",
        "version": 3
      },
      "file_extension": ".py",
      "mimetype": "text/x-python",
      "name": "python",
      "nbconvert_exporter": "python",
      "pygments_lexer": "ipython3",
      "version": "3.8"
    },
    "kernelspec": {
      "name": "python",
      "display_name": "Pyolite",
      "language": "python"
    }
  },
  "nbformat_minor": 4,
  "nbformat": 4,
  "cells": [
    {
      "cell_type": "markdown",
      "source": "<p style=\"text-align:center\">\n    <a href=\"https://skills.network/?utm_medium=Exinfluencer&utm_source=Exinfluencer&utm_content=000026UJ&utm_term=10006555&utm_id=NA-SkillsNetwork-Channel-SkillsNetworkCoursesIBMDeveloperSkillsNetworkST0151ENSkillsNetwork20531532-2022-01-01\" target=\"_blank\">\n    <img src=\"https://cf-courses-data.s3.us.cloud-object-storage.appdomain.cloud/assets/logos/SN_web_lightmode.png\" width=\"200\" alt=\"Skills Network Logo\"  />\n    </a>\n</p>\n",
      "metadata": {}
    },
    {
      "cell_type": "markdown",
      "source": "# **Hypothesis Testing**\n",
      "metadata": {}
    },
    {
      "cell_type": "markdown",
      "source": "Estimated time needed: **30** minutes\n",
      "metadata": {}
    },
    {
      "cell_type": "markdown",
      "source": "The goal of hypothesis testing is to answer the question, “Given a sample and an apparent effect, what is the probability of seeing such an effect by chance?” The first step is to quantify the size of the apparent effect by choosing a test statistic (t-test, ANOVA, etc). The next step is to define a null hypothesis, which is a model of the system based on the assumption that the apparent effect is not real. Then compute the p-value, which is the probability of the null hypothesis being true, and finally interpret the result of the p-value, if the value is low, the effect is said to be statistically significant, which means that the null hypothesis may not be accurate.\n",
      "metadata": {}
    },
    {
      "cell_type": "markdown",
      "source": "## Objectives\n",
      "metadata": {}
    },
    {
      "cell_type": "markdown",
      "source": "*   Import Libraries\n*   Lab exercises\n    *   Stating the hypothesis\n    *   Levene's Test for equality\n    *   Preparing your data for hypothesis testing\n*   Quiz\n",
      "metadata": {}
    },
    {
      "cell_type": "markdown",
      "source": "***\n",
      "metadata": {}
    },
    {
      "cell_type": "markdown",
      "source": "## Import Libraries\n",
      "metadata": {}
    },
    {
      "cell_type": "markdown",
      "source": "All Libraries required for this lab are listed below. The libraries pre-installed on Skills Network Labs are commented. If you run this notebook in a different environment, e.g. your desktop, you may need to uncomment and install certain libraries.\n",
      "metadata": {}
    },
    {
      "cell_type": "code",
      "source": "#install specific version of libraries used in lab\n#! mamba install pandas==1.3.3\n#! mamba install numpy=1.21.2\n#! mamba install scipy=1.7.1-y\n#!  mamba install seaborn=0.9.0-y\n#!  mamba install matplotlib=3.4.3-y\n#!  mamba install statsmodels=0.12.0-y",
      "metadata": {},
      "execution_count": null,
      "outputs": []
    },
    {
      "cell_type": "markdown",
      "source": "Import the libraries we need for the lab\n",
      "metadata": {}
    },
    {
      "cell_type": "code",
      "source": "import piplite\nawait piplite.install(['numpy'],['pandas'])\nawait piplite.install(['seaborn'])",
      "metadata": {
        "trusted": true
      },
      "execution_count": 1,
      "outputs": []
    },
    {
      "cell_type": "code",
      "source": "import numpy as np\nimport pandas as pd\nimport seaborn as sns\nimport matplotlib.pyplot as plt\nimport scipy.stats",
      "metadata": {
        "trusted": true
      },
      "execution_count": 2,
      "outputs": []
    },
    {
      "cell_type": "code",
      "source": "from js import fetch\nimport io\n\nURL = 'https://cf-courses-data.s3.us.cloud-object-storage.appdomain.cloud/IBMDeveloperSkillsNetwork-ST0151EN-SkillsNetwork/labs/teachingratings.csv'\nresp = await fetch(URL)\nratings_url = io.BytesIO((await resp.arrayBuffer()).to_py())",
      "metadata": {
        "trusted": true
      },
      "execution_count": 3,
      "outputs": []
    },
    {
      "cell_type": "markdown",
      "source": "Read in the csv file from the URL using the request library\n",
      "metadata": {}
    },
    {
      "cell_type": "code",
      "source": "ratings_df = pd.read_csv(ratings_url)",
      "metadata": {
        "trusted": true
      },
      "execution_count": 4,
      "outputs": []
    },
    {
      "cell_type": "markdown",
      "source": "## Lab Exercises\n",
      "metadata": {}
    },
    {
      "cell_type": "markdown",
      "source": "### T-Test: Using the teachers' rating data set, does gender affect teaching evaluation rates?\n",
      "metadata": {}
    },
    {
      "cell_type": "markdown",
      "source": "We will be using the t-test for independent samples. For the independent t-test, the following assumptions must be met.\n\n*   One independent, categorical variable with two levels or group\n*   One dependent continuous variable\n*   Independence of the observations. Each subject should belong to only one group. There is no relationship between the observations in each group.\n*   The dependent variable must follow a normal distribution\n*   Assumption of homogeneity of variance\n",
      "metadata": {}
    },
    {
      "cell_type": "markdown",
      "source": "State the hypothesis\n\n*   $H\\_0: µ\\_1 = µ\\_2$ (\"there is no difference in evaluation scores between male and females\")\n*   $H\\_1: µ\\_1 ≠ µ\\_2$ (\"there is a difference in evaluation scores between male and females\")\n",
      "metadata": {}
    },
    {
      "cell_type": "markdown",
      "source": "We can plot the dependent variable with a historgram\n",
      "metadata": {}
    },
    {
      "cell_type": "code",
      "source": "ax = sns.distplot(ratings_df['eval'],\n                  bins=20,\n                  kde=True,\n                  color='blue',\n                  hist_kws={\"linewidth\": 15,'alpha':1})\nax.set(xlabel='Normal Distribution', ylabel='Frequency')\nplt.show()\n## we can assume it is normal",
      "metadata": {
        "trusted": true
      },
      "execution_count": 9,
      "outputs": [
        {
          "name": "stderr",
          "text": "<ipython-input-9-14ca8972aa0d>:1: UserWarning: \n\n`distplot` is a deprecated function and will be removed in seaborn v0.14.0.\n\nPlease adapt your code to use either `displot` (a figure-level function with\nsimilar flexibility) or `histplot` (an axes-level function for histograms).\n\nFor a guide to updating your code to use the new functions, please see\nhttps://gist.github.com/mwaskom/de44147ed2974457ad6372750bbe5751\n\n  ax = sns.distplot(ratings_df['eval'],\n",
          "output_type": "stream"
        },
        {
          "output_type": "display_data",
          "data": {
            "text/plain": "<pyolite.display.Image at 0x66ce518>",
            "image/png": "[encoded data removed]"
          },
          "metadata": {}
        }
      ]
    },
    {
      "cell_type": "markdown",
      "source": "We can use the Levene's Test in Python to check test significance\n",
      "metadata": {}
    },
    {
      "cell_type": "code",
      "source": "scipy.stats.levene(ratings_df[ratings_df['gender'] == 'female']['eval'],\n                   ratings_df[ratings_df['gender'] == 'male']['eval'], center='mean')\n\n# since the p-value is greater than 0.05 we can assume equality of variance",
      "metadata": {
        "trusted": true
      },
      "execution_count": 10,
      "outputs": [
        {
          "execution_count": 10,
          "output_type": "execute_result",
          "data": {
            "text/plain": "LeveneResult(statistic=0.19032922435292574, pvalue=0.6628469836244741)"
          },
          "metadata": {}
        }
      ]
    },
    {
      "cell_type": "markdown",
      "source": "Use the <code>ttest_ind</code> from the <code>scipy_stats</code> library\n",
      "metadata": {}
    },
    {
      "cell_type": "code",
      "source": "scipy.stats.ttest_ind(ratings_df[ratings_df['gender'] == 'female']['eval'],\n                   ratings_df[ratings_df['gender'] == 'male']['eval'], equal_var = True)",
      "metadata": {
        "trusted": true
      },
      "execution_count": 11,
      "outputs": [
        {
          "execution_count": 11,
          "output_type": "execute_result",
          "data": {
            "text/plain": "Ttest_indResult(statistic=-3.249937943510772, pvalue=0.0012387609449522217)"
          },
          "metadata": {}
        }
      ]
    },
    {
      "cell_type": "markdown",
      "source": "**Conclusion:** Since the p-value is less than alpha value 0.05, we reject the null hypothesis as there is enough proof that there is a statistical difference in teaching evaluations based on gender\n",
      "metadata": {}
    },
    {
      "cell_type": "markdown",
      "source": "### ANOVA: Using the teachers' rating data set, does beauty  score for instructors  differ by age?\n",
      "metadata": {}
    },
    {
      "cell_type": "markdown",
      "source": "First, we group the data into cateries as the one-way ANOVA can't work with continuous variable - using the example from the video, we will create a new column for this newly assigned group our categories will be teachers that are:\n\n*   40 years and younger\n*   between 40 and 57 years\n*   57 years and older\n",
      "metadata": {}
    },
    {
      "cell_type": "code",
      "source": "ratings_df.loc[(ratings_df['age'] <= 40), 'age_group'] = '40 years and younger'\nratings_df.loc[(ratings_df['age'] > 40)&(ratings_df['age'] < 57), 'age_group'] = 'between 40 and 57 years'\nratings_df.loc[(ratings_df['age'] >= 57), 'age_group'] = '57 years and older'",
      "metadata": {
        "trusted": true
      },
      "execution_count": 12,
      "outputs": []
    },
    {
      "cell_type": "markdown",
      "source": "State the hypothesis\n\n*   $H\\_0: µ\\_1 = µ\\_2 = µ\\_3$ (the three population means are equal)\n*   $H\\_1:$ At least one of the means differ\n",
      "metadata": {}
    },
    {
      "cell_type": "markdown",
      "source": "Test for equality of variance\n",
      "metadata": {}
    },
    {
      "cell_type": "code",
      "source": "scipy.stats.levene(ratings_df[ratings_df['age_group'] == '40 years and younger']['beauty'],\n                   ratings_df[ratings_df['age_group'] == 'between 40 and 57 years']['beauty'], \n                   ratings_df[ratings_df['age_group'] == '57 years and older']['beauty'], \n                   center='mean')\n# since the p-value is less than 0.05, the variance are not equal, for the purposes of this exercise, we will move along",
      "metadata": {
        "trusted": true
      },
      "execution_count": 14,
      "outputs": [
        {
          "execution_count": 14,
          "output_type": "execute_result",
          "data": {
            "text/plain": "LeveneResult(statistic=8.60005668392584, pvalue=0.000215366180993476)"
          },
          "metadata": {}
        }
      ]
    },
    {
      "cell_type": "markdown",
      "source": "First, separate the three samples (one for each job category) into a variable each.\n",
      "metadata": {}
    },
    {
      "cell_type": "code",
      "source": "forty_lower = ratings_df[ratings_df['age_group'] == '40 years and younger']['beauty']\nforty_fiftyseven = ratings_df[ratings_df['age_group'] == 'between 40 and 57 years']['beauty']\nfiftyseven_older = ratings_df[ratings_df['age_group'] == '57 years and older']['beauty']",
      "metadata": {
        "trusted": true
      },
      "execution_count": 15,
      "outputs": []
    },
    {
      "cell_type": "markdown",
      "source": "Now, run a one-way ANOVA.\n",
      "metadata": {}
    },
    {
      "cell_type": "code",
      "source": "f_statistic, p_value = scipy.stats.f_oneway(forty_lower, forty_fiftyseven, fiftyseven_older)\nprint(\"F_Statistic: {0}, P-Value: {1}\".format(f_statistic,p_value))",
      "metadata": {
        "trusted": true
      },
      "execution_count": 16,
      "outputs": [
        {
          "name": "stdout",
          "text": "F_Statistic: 17.597558611010122, P-Value: 4.3225489816137975e-08\n",
          "output_type": "stream"
        }
      ]
    },
    {
      "cell_type": "markdown",
      "source": "**Conclusion:** Since the p-value is less than 0.05, we will reject the null hypothesis as there is significant evidence that at least one of the means differ.\n",
      "metadata": {}
    },
    {
      "cell_type": "markdown",
      "source": "### ANOVA: Using the teachers' rating data set, does teaching  evaluation  score for instructors  differ  by age?\n",
      "metadata": {}
    },
    {
      "cell_type": "markdown",
      "source": "Test for equality of variance\n",
      "metadata": {}
    },
    {
      "cell_type": "code",
      "source": "scipy.stats.levene(ratings_df[ratings_df['age_group'] == '40 years and younger']['eval'],\n                   ratings_df[ratings_df['age_group'] == 'between 40 and 57 years']['eval'], \n                   ratings_df[ratings_df['age_group'] == '57 years and older']['eval'], \n                   center='mean')\n",
      "metadata": {
        "trusted": true
      },
      "execution_count": 17,
      "outputs": [
        {
          "execution_count": 17,
          "output_type": "execute_result",
          "data": {
            "text/plain": "LeveneResult(statistic=3.820237661494229, pvalue=0.02262141852021939)"
          },
          "metadata": {}
        }
      ]
    },
    {
      "cell_type": "code",
      "source": "forty_lower_eval = ratings_df[ratings_df['age_group'] == '40 years and younger']['eval']\nforty_fiftyseven_eval = ratings_df[ratings_df['age_group'] == 'between 40 and 57 years']['eval']\nfiftyseven_older_eval = ratings_df[ratings_df['age_group'] == '57 years and older']['eval']",
      "metadata": {
        "trusted": true
      },
      "execution_count": 18,
      "outputs": []
    },
    {
      "cell_type": "code",
      "source": "f_statistic, p_value = scipy.stats.f_oneway(forty_lower_eval, forty_fiftyseven_eval, fiftyseven_older_eval)\nprint(\"F_Statistic: {0}, P-Value: {1}\".format(f_statistic,p_value))",
      "metadata": {
        "trusted": true
      },
      "execution_count": 19,
      "outputs": [
        {
          "name": "stdout",
          "text": "F_Statistic: 1.2226327996572206, P-Value: 0.29540894225417536\n",
          "output_type": "stream"
        }
      ]
    },
    {
      "cell_type": "markdown",
      "source": "**Conclusion:** Since the p-value is greater than 0.05, we will fail to reject the null hypothesis as there is no significant evidence that at least one of the means differ.\n",
      "metadata": {}
    },
    {
      "cell_type": "markdown",
      "source": "### Chi-square: Using the teachers' rating data set, is there an association between tenure and gender?\n",
      "metadata": {}
    },
    {
      "cell_type": "markdown",
      "source": "State the hypothesis:\n\n*   $H\\_0:$ The proportion of teachers who are tenured is independent of gender\n*   $H\\_1:$ The proportion of teachers who are tenured is associated with gender\n",
      "metadata": {}
    },
    {
      "cell_type": "markdown",
      "source": "Create a Cross-tab table\n",
      "metadata": {}
    },
    {
      "cell_type": "code",
      "source": "cont_table  = pd.crosstab(ratings_df['tenure'], ratings_df['gender'])\ncont_table",
      "metadata": {
        "trusted": true
      },
      "execution_count": 20,
      "outputs": [
        {
          "execution_count": 20,
          "output_type": "execute_result",
          "data": {
            "text/plain": "gender  female  male\ntenure              \nno          50    52\nyes        145   216",
            "text/html": "<div>\n<style scoped>\n    .dataframe tbody tr th:only-of-type {\n        vertical-align: middle;\n    }\n\n    .dataframe tbody tr th {\n        vertical-align: top;\n    }\n\n    .dataframe thead th {\n        text-align: right;\n    }\n</style>\n<table border=\"1\" class=\"dataframe\">\n  <thead>\n    <tr style=\"text-align: right;\">\n      <th>gender</th>\n      <th>female</th>\n      <th>male</th>\n    </tr>\n    <tr>\n      <th>tenure</th>\n      <th></th>\n      <th></th>\n    </tr>\n  </thead>\n  <tbody>\n    <tr>\n      <th>no</th>\n      <td>50</td>\n      <td>52</td>\n    </tr>\n    <tr>\n      <th>yes</th>\n      <td>145</td>\n      <td>216</td>\n    </tr>\n  </tbody>\n</table>\n</div>"
          },
          "metadata": {}
        }
      ]
    },
    {
      "cell_type": "markdown",
      "source": "Use the <code>scipy.stats</code> library and set correction equals False as that will be the same answer when done by hand, it returns: 𝜒2 value, p-value, degree of freedom, and expected values.\n",
      "metadata": {}
    },
    {
      "cell_type": "code",
      "source": "scipy.stats.chi2_contingency(cont_table, correction = True)",
      "metadata": {
        "trusted": true
      },
      "execution_count": 21,
      "outputs": [
        {
          "execution_count": 21,
          "output_type": "execute_result",
          "data": {
            "text/plain": "(2.20678166999886,\n 0.1374050603563787,\n 1,\n array([[ 42.95896328,  59.04103672],\n        [152.04103672, 208.95896328]]))"
          },
          "metadata": {}
        }
      ]
    },
    {
      "cell_type": "markdown",
      "source": "**Conclusion:** Since the p-value is greater than 0.05, we fail to reject the null hypothesis. As there is no sufficient evidence that teachers are tenured as a result of gender.\n",
      "metadata": {}
    },
    {
      "cell_type": "markdown",
      "source": "### Correlation: Using the teachers rating dataset, Is teaching  evaluation  score correlated with  beauty score?\n",
      "metadata": {}
    },
    {
      "cell_type": "markdown",
      "source": "State the hypothesis:\n\n*   $H\\_0:$ Teaching evaluation score is not correlated with beauty score\n*   $H\\_1:$ Teaching evaluation score is correlated with beauty score\n",
      "metadata": {}
    },
    {
      "cell_type": "markdown",
      "source": "Since they are both continuous variables we can use a pearson correlation test and draw a scatter plot\n",
      "metadata": {}
    },
    {
      "cell_type": "code",
      "source": "ax = sns.scatterplot(x=\"beauty\", y=\"eval\", data=ratings_df)\nplt.show()",
      "metadata": {
        "trusted": true
      },
      "execution_count": 23,
      "outputs": [
        {
          "output_type": "display_data",
          "data": {
            "text/plain": "<pyolite.display.Image at 0x689c968>",
            "image/png": "[encoded data removed]"
          },
          "metadata": {}
        }
      ]
    },
    {
      "cell_type": "code",
      "source": "scipy.stats.pearsonr(ratings_df['beauty'], ratings_df['eval'])",
      "metadata": {
        "trusted": true
      },
      "execution_count": 24,
      "outputs": [
        {
          "execution_count": 24,
          "output_type": "execute_result",
          "data": {
            "text/plain": "(0.18903909084045223, 4.247115419812357e-05)"
          },
          "metadata": {}
        }
      ]
    },
    {
      "cell_type": "markdown",
      "source": "**Conclusion:** Since the p-value  (Sig. (2-tailed)  < 0.05, we reject  the Null hypothesis and conclude that there  exists a relationship between  beauty and teaching evaluation score.\n",
      "metadata": {}
    },
    {
      "cell_type": "markdown",
      "source": "## Practice Questions\n",
      "metadata": {}
    },
    {
      "cell_type": "markdown",
      "source": "### Question 1: Using the teachers rating data set, does tenure affect teaching evaluation scores?\n\n*   Use α = 0.05\n",
      "metadata": {}
    },
    {
      "cell_type": "code",
      "source": "## insert code here\n\nscipy.stats.levene(ratings_df[ratings_df.tenure == \"yes\"][\"eval\"],\\\n                   ratings_df[ratings_df.tenure == \"no\"][\"eval\"], center = \"mean\")\n# pval = 0.5 --> Assume equal variances.",
      "metadata": {
        "trusted": true
      },
      "execution_count": 29,
      "outputs": [
        {
          "execution_count": 29,
          "output_type": "execute_result",
          "data": {
            "text/plain": "LeveneResult(statistic=0.44389295824627134, pvalue=0.5055827160360271)"
          },
          "metadata": {}
        }
      ]
    },
    {
      "cell_type": "code",
      "source": "scipy.stats.ttest_ind(ratings_df[ratings_df.tenure == \"yes\"][\"eval\"], \\\n                      ratings_df[ratings_df.tenure == \"no\"][\"eval\"], equal_var = True)",
      "metadata": {
        "trusted": true
      },
      "execution_count": 32,
      "outputs": [
        {
          "execution_count": 32,
          "output_type": "execute_result",
          "data": {
            "text/plain": "Ttest_indResult(statistic=-2.8046798258451777, pvalue=0.005249471210198792)"
          },
          "metadata": {}
        }
      ]
    },
    {
      "cell_type": "markdown",
      "source": "Double-click **here** for the solution.\n\n<!-- The answer is below:\nscipy.stats.ttest_ind(ratings_df[ratings_df['tenure'] == 'yes']['eval'],\n                   ratings_df[ratings_df['tenure'] == 'no']['eval'], equal_var = True)\nThe p-value is less than 0.05 that means that - we will reject the null hypothesis as there evidence that being tenured affects teaching evaluation scores\n-->\n",
      "metadata": {}
    },
    {
      "cell_type": "markdown",
      "source": "### Question 2: Using the teachers rating data set, is there an association between age and tenure?\n\n*   Discretize the age into three groups 40 years and youngers, between 40 and 57 years, 57 years and older (This has already been done for you above.)\n*   What is your conclusion at α = 0.01 and α = 0.05?\n",
      "metadata": {}
    },
    {
      "cell_type": "code",
      "source": "## insert code here\ncont_table = pd.crosstab(ratings_df[\"tenure\"], ratings_df[\"age_group\"])\ncont_table",
      "metadata": {
        "trusted": true
      },
      "execution_count": 36,
      "outputs": [
        {
          "execution_count": 36,
          "output_type": "execute_result",
          "data": {
            "text/plain": "age_group  40 years and younger  57 years and older  between 40 and 57 years\ntenure                                                                      \nno                           15                  25                       62\nyes                          98                  97                      166",
            "text/html": "<div>\n<style scoped>\n    .dataframe tbody tr th:only-of-type {\n        vertical-align: middle;\n    }\n\n    .dataframe tbody tr th {\n        vertical-align: top;\n    }\n\n    .dataframe thead th {\n        text-align: right;\n    }\n</style>\n<table border=\"1\" class=\"dataframe\">\n  <thead>\n    <tr style=\"text-align: right;\">\n      <th>age_group</th>\n      <th>40 years and younger</th>\n      <th>57 years and older</th>\n      <th>between 40 and 57 years</th>\n    </tr>\n    <tr>\n      <th>tenure</th>\n      <th></th>\n      <th></th>\n      <th></th>\n    </tr>\n  </thead>\n  <tbody>\n    <tr>\n      <th>no</th>\n      <td>15</td>\n      <td>25</td>\n      <td>62</td>\n    </tr>\n    <tr>\n      <th>yes</th>\n      <td>98</td>\n      <td>97</td>\n      <td>166</td>\n    </tr>\n  </tbody>\n</table>\n</div>"
          },
          "metadata": {}
        }
      ]
    },
    {
      "cell_type": "code",
      "source": "scipy.stats.chi2_contingency(cont_table, correction = True)",
      "metadata": {
        "trusted": true
      },
      "execution_count": 41,
      "outputs": [
        {
          "execution_count": 41,
          "output_type": "execute_result",
          "data": {
            "text/plain": "(8.749576239010711,\n 0.012590809706820843,\n 2,\n array([[ 24.89416847,  26.87688985,  50.22894168],\n        [ 88.10583153,  95.12311015, 177.77105832]]))"
          },
          "metadata": {}
        }
      ]
    },
    {
      "cell_type": "markdown",
      "source": "Double-click **here** for a hint.\n\n<!-- The hint is below:\n## state your hypothesis\nNull Hypothesis: There is no association between age and tenure\nAlternative Hypothesis: There is an association between age and tenure\n\n## don't forget to create a cross tab of the data\ncont_table  = pd.crosstab(ratings_df['tenure'], ratings_df['age_group'])\n-->\n",
      "metadata": {}
    },
    {
      "cell_type": "markdown",
      "source": "Double-click **here** for the solution.\n\n<!-- The answer is below:\n## use the chi-square function\nscipy.stats.chi2_contingency(cont_table, correction = True)\nAt the α = 0.01, p-value is greater, we fail to reject null hypothesis as there is no evidence of an association between age and tenure\nAt the α = 0.05, p-value is less, we reject null hypoothesis as there is evidence of an association between age and tenure\n-->\n",
      "metadata": {}
    },
    {
      "cell_type": "markdown",
      "source": "### Question 3: Test for equality of variance for beauty scores between tenured and non-tenured instructors\n\n*   Use α = 0.05\n",
      "metadata": {}
    },
    {
      "cell_type": "code",
      "source": "## insert code here\nscipy.stats.levene(ratings_df[ratings_df.tenure == \"yes\"][\"beauty\"], \\\n                   ratings_df[ratings_df.tenure == \"no\"][\"beauty\"], center = \"mean\")    \n# p-value > 0.05 --> still assume equality of variance of both groups",
      "metadata": {
        "trusted": true
      },
      "execution_count": 43,
      "outputs": [
        {
          "execution_count": 43,
          "output_type": "execute_result",
          "data": {
            "text/plain": "LeveneResult(statistic=0.4884241652750426, pvalue=0.4849835158609811)"
          },
          "metadata": {}
        }
      ]
    },
    {
      "cell_type": "markdown",
      "source": "Double-click **here** for the solution.\n\n<!-- The answer is below:\n### use the levene function to find the p-value and conclusion\nscipy.stats.levene(ratings_df[ratings_df['tenure'] == 'yes']['beauty'],\n                   ratings_df[ratings_df['tenure'] == 'no']['beauty'], \n                   center='mean')\nSince the p-value is greater than 0.05, we will assume equality of variance of both groups\n-->\n",
      "metadata": {}
    },
    {
      "cell_type": "markdown",
      "source": "### Question 4: Using the teachers rating data set, is there an association between visible minorities and tenure?\n\n*   Use α = 0.05\n",
      "metadata": {}
    },
    {
      "cell_type": "code",
      "source": "## insert code here\ncont_table = pd.crosstab(ratings_df[\"tenure\"], ratings_df[\"vismin\"])\nscipy.stats.chi2_contingency(cont_table, correction = True)",
      "metadata": {
        "trusted": true
      },
      "execution_count": 45,
      "outputs": [
        {
          "execution_count": 45,
          "output_type": "execute_result",
          "data": {
            "text/plain": "(1.3675127484429763,\n 0.24223968800237172,\n 1,\n array([[ 87.90064795,  14.09935205],\n        [311.09935205,  49.90064795]]))"
          },
          "metadata": {}
        }
      ]
    },
    {
      "cell_type": "markdown",
      "source": "Double-click **here** for a hint.\n\n<!-- The hint is below:\n##State you hypothesis and Create a cross-tab:\nNull Hypothesis: There is no association between visible minorities and tenure\nAlternative Hypothesis: There is an association between visible minorities and tenure\n\ncont_table  = pd.crosstab(ratings_df['vismin'], ratings_df['tenure'])\n-->\n",
      "metadata": {}
    },
    {
      "cell_type": "markdown",
      "source": "Double-click **here** for the solution.\n\n<!-- The answer is below:\n## run the chi2_contingency() on the contigency table\nscipy.stats.chi2_contingency(cont_table, correction = True)\nSince the p-value is greater than 0.05, we fail to reject null hypothesis as there is no evidence of an association between visible minorities and tenure\n-->\n",
      "metadata": {}
    },
    {
      "cell_type": "markdown",
      "source": "## Authors\n\n[Pratiksha Verma](https://www.linkedin.com/in/pratiksha-verma-6487561b1/?utm_medium=Exinfluencer&utm_source=Exinfluencer&utm_content=000026UJ&utm_term=10006555&utm_id=NA-SkillsNetwork-Channel-SkillsNetworkCoursesIBMDeveloperSkillsNetworkST0151ENSkillsNetwork956-2022-01-01)\n\n## Change Log\n\n| Date (YYYY-MM-DD) | Version | Changed By      | Change Description      |\n| ----------------- | ------- | -------------   | ----------------------- |\n| 2022-11-09        | 1.0     | Pratiksha Verma | Converted initial version to Jupyterlite|\n\n\n<hr>\n\n## <h3 align=\"center\"> IBM Corporation 2022. All rights reserved. <h3/>\n",
      "metadata": {}
    }
  ]
}