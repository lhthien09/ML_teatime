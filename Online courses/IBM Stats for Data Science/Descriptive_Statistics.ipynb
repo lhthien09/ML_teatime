{
  "cells": [
    {
      "cell_type": "markdown",
      "metadata": {
        "id": "bRvuFC_HbxYO"
      },
      "source": [
        "<p style=\"text-align:center\">\n",
        "    <a href=\"https://skills.network/?utm_medium=Exinfluencer&utm_source=Exinfluencer&utm_content=000026UJ&utm_term=10006555&utm_id=NA-SkillsNetwork-Channel-SkillsNetworkCoursesIBMDeveloperSkillsNetworkST0151ENSkillsNetwork20531532-2022-01-01\" target=\"_blank\">\n",
        "    <img src=\"https://cf-courses-data.s3.us.cloud-object-storage.appdomain.cloud/assets/logos/SN_web_lightmode.png\" width=\"200\" alt=\"Skills Network Logo\"  />\n",
        "    </a>\n",
        "</p>\n"
      ]
    },
    {
      "cell_type": "markdown",
      "metadata": {
        "id": "BNglywORbxYR"
      },
      "source": [
        "# Descriptive Statistics\n"
      ]
    },
    {
      "cell_type": "markdown",
      "metadata": {
        "id": "_Tph7nI9bxYR"
      },
      "source": [
        "Estimated time needed: **30** minutes\n"
      ]
    },
    {
      "cell_type": "markdown",
      "metadata": {
        "id": "pySiL8arbxYS"
      },
      "source": [
        "In this lab, you'll go over some hands-on exercises using Python.\n"
      ]
    },
    {
      "cell_type": "markdown",
      "metadata": {
        "id": "aTXRB0VxbxYS"
      },
      "source": [
        "## Objectives\n"
      ]
    },
    {
      "cell_type": "markdown",
      "metadata": {
        "id": "Ljx0HyZJbxYS"
      },
      "source": [
        "*   Import Libraries\n",
        "*   Read in Data\n",
        "*   Lab exercises and questions\n"
      ]
    },
    {
      "cell_type": "markdown",
      "metadata": {
        "id": "YMvtedvUbxYS"
      },
      "source": [
        "***\n"
      ]
    },
    {
      "cell_type": "markdown",
      "metadata": {
        "id": "fgtbi1BqbxYT"
      },
      "source": [
        "## Import Libraries\n"
      ]
    },
    {
      "cell_type": "markdown",
      "metadata": {
        "id": "PeLb65rZbxYT"
      },
      "source": [
        "All Libraries required for this lab are listed below. The libraries pre-installed on Skills Network Labs are commented. If you run this notebook in a different environment, e.g. your desktop, you may need to uncomment and install certain libraries.\n"
      ]
    },
    {
      "cell_type": "code",
      "execution_count": null,
      "metadata": {
        "id": "TQWcBCOKbxYU"
      },
      "outputs": [],
      "source": [
        "#! mamba install pandas==1.3.3\n",
        "#! mamba install numpy=1.21.2\n",
        "#!  mamba install matplotlib=3.4.3-y"
      ]
    },
    {
      "cell_type": "markdown",
      "metadata": {
        "id": "jLr6G9l3bxYU"
      },
      "source": [
        "Import the libraries we need for the lab\n"
      ]
    },
    {
      "cell_type": "code",
      "execution_count": null,
      "metadata": {
        "id": "kw3U5JypbxYV"
      },
      "outputs": [],
      "source": [
        "import numpy as np\n",
        "import pandas as pd\n",
        "import matplotlib.pyplot as pyplot"
      ]
    },
    {
      "cell_type": "markdown",
      "metadata": {
        "id": "t1cEzbtubxYV"
      },
      "source": [
        "Read in the csv file from the URL using the request library\n"
      ]
    },
    {
      "cell_type": "code",
      "execution_count": null,
      "metadata": {
        "id": "A28dO-uUbxYV"
      },
      "outputs": [],
      "source": [
        "ratings_url = 'https://cf-courses-data.s3.us.cloud-object-storage.appdomain.cloud/IBMDeveloperSkillsNetwork-ST0151EN-SkillsNetwork/labs/teachingratings.csv'\n",
        "ratings_df=pd.read_csv(ratings_url)\n"
      ]
    },
    {
      "cell_type": "markdown",
      "metadata": {
        "id": "hve7kADEbxYW"
      },
      "source": [
        "## Data Description\n",
        "\n",
        "| Variable    | Description                                                                                                                                          |\n",
        "| ----------- | ---------------------------------------------------------------------------------------------------------------------------------------------------- |\n",
        "| minority    | Does the instructor belong to a minority (non-Caucasian) group?                                                                                      |\n",
        "| age         | The professor's age                                                                                                                                  |\n",
        "| gender      | Indicating whether the instructor was male or female.                                                                                                |\n",
        "| credits     | Is the course a single-credit elective?                                                                                                              |\n",
        "| beauty      | Rating of the instructor's physical appearance by a panel of six students averaged across the six panelists and standardized to have a mean of zero. |\n",
        "| eval        | Course overall teaching evaluation score, on a scale of 1 (very unsatisfactory) to 5 (excellent).                                                    |\n",
        "| division    | Is the course an upper or lower division course?                                                                                                     |\n",
        "| native      | Is the instructor a native English speaker?                                                                                                          |\n",
        "| tenure      | Is the instructor on a tenure track?                                                                                                                 |\n",
        "| students    | Number of students that participated in the evaluation.                                                                                              |\n",
        "| allstudents | Number of students enrolled in the course.                                                                                                           |\n",
        "| prof        | Indicating instructor identifier.                                                                                                                    |\n"
      ]
    },
    {
      "cell_type": "markdown",
      "metadata": {
        "id": "y3YfTzzqbxYW"
      },
      "source": [
        "## Display information about the dataset\n",
        "\n",
        "1.  Structure of the dataframe\n",
        "2.  Describe the dataset\n",
        "3.  Number of rows and columns\n"
      ]
    },
    {
      "cell_type": "markdown",
      "metadata": {
        "id": "ZjT8TDQbbxYX"
      },
      "source": [
        "print out the first five rows of the data\n"
      ]
    },
    {
      "cell_type": "code",
      "execution_count": null,
      "metadata": {
        "id": "0c2ZoIoebxYX"
      },
      "outputs": [],
      "source": [
        "ratings_df.head()"
      ]
    },
    {
      "cell_type": "markdown",
      "metadata": {
        "id": "84kXZ94ubxYY"
      },
      "source": [
        "get information about each variable\n"
      ]
    },
    {
      "cell_type": "code",
      "execution_count": null,
      "metadata": {
        "id": "3KUxuZ7lbxYY"
      },
      "outputs": [],
      "source": [
        "ratings_df.info()"
      ]
    },
    {
      "cell_type": "markdown",
      "metadata": {
        "id": "XN__WsMsbxYY"
      },
      "source": [
        "get the number of rows and columns - prints as (number of rows, number of columns)\n"
      ]
    },
    {
      "cell_type": "code",
      "execution_count": null,
      "metadata": {
        "id": "DXpnFvdebxYZ"
      },
      "outputs": [],
      "source": [
        "ratings_df.shape"
      ]
    },
    {
      "cell_type": "markdown",
      "metadata": {
        "id": "E6g0fJ_QbxYZ"
      },
      "source": [
        "## Lab Exercises\n"
      ]
    },
    {
      "cell_type": "markdown",
      "metadata": {
        "id": "z43E1HjPbxYZ"
      },
      "source": [
        "### Can you identify whether the teachers' Rating data is a time series or cross-sectional?\n"
      ]
    },
    {
      "cell_type": "markdown",
      "metadata": {
        "id": "WR2N4A0qbxYZ"
      },
      "source": [
        "Print out the first ten rows of the data\n",
        "\n",
        "1.  Does it have a date or time variable? - No - it is not a time series dataset\n",
        "2.  Does it observe more than one teacher being rated? - Yes - it is cross-sectional dataset\n",
        "\n",
        "> The dataset is a Cross-sectional\n"
      ]
    },
    {
      "cell_type": "code",
      "execution_count": null,
      "metadata": {
        "id": "YyVTZO9ebxYZ"
      },
      "outputs": [],
      "source": [
        "ratings_df.head(10)"
      ]
    },
    {
      "cell_type": "markdown",
      "metadata": {
        "id": "_vfv2Zr9bxYa"
      },
      "source": [
        "### Find the mean, median, minimum, and maximum values for students\n"
      ]
    },
    {
      "cell_type": "markdown",
      "metadata": {
        "id": "vfwH2oLjbxYa"
      },
      "source": [
        "Find Mean value for students\n"
      ]
    },
    {
      "cell_type": "code",
      "execution_count": null,
      "metadata": {
        "id": "aQA9e_fSbxYa"
      },
      "outputs": [],
      "source": [
        "ratings_df['students'].mean()"
      ]
    },
    {
      "cell_type": "markdown",
      "metadata": {
        "id": "yZD2UUUlbxYa"
      },
      "source": [
        "Find the Median value for students\n"
      ]
    },
    {
      "cell_type": "code",
      "execution_count": null,
      "metadata": {
        "id": "fVP_k68obxYa"
      },
      "outputs": [],
      "source": [
        "ratings_df['students'].median()"
      ]
    },
    {
      "cell_type": "markdown",
      "metadata": {
        "id": "Pr5XQ3BpbxYb"
      },
      "source": [
        "Find the Minimum value for students\n"
      ]
    },
    {
      "cell_type": "code",
      "execution_count": null,
      "metadata": {
        "id": "yyMMdsh9bxYb"
      },
      "outputs": [],
      "source": [
        "ratings_df['students'].min()"
      ]
    },
    {
      "cell_type": "markdown",
      "metadata": {
        "id": "iXRoOG62bxYb"
      },
      "source": [
        "Find the Maximum value for students\n"
      ]
    },
    {
      "cell_type": "code",
      "execution_count": null,
      "metadata": {
        "id": "3nCUHlYIbxYb"
      },
      "outputs": [],
      "source": [
        "ratings_df['students'].max()"
      ]
    },
    {
      "cell_type": "markdown",
      "metadata": {
        "id": "6MCCCa8sbxYb"
      },
      "source": [
        "### Produce a descriptive statistics table\n"
      ]
    },
    {
      "cell_type": "code",
      "execution_count": null,
      "metadata": {
        "id": "gj_zvGiFbxYb"
      },
      "outputs": [],
      "source": [
        "ratings_df.describe()"
      ]
    },
    {
      "cell_type": "markdown",
      "metadata": {
        "id": "b6XE58MGbxYc"
      },
      "source": [
        "### Create a histogram of the beauty variable and briefly comment on the distribution of data\n"
      ]
    },
    {
      "cell_type": "markdown",
      "metadata": {
        "id": "DuhczNBfbxYc"
      },
      "source": [
        "using the <code>matplotlib</code> library, create a histogram\n"
      ]
    },
    {
      "cell_type": "code",
      "execution_count": null,
      "metadata": {
        "id": "SUqd4PMNbxYc"
      },
      "outputs": [],
      "source": [
        "pyplot.hist(ratings_df['beauty'])"
      ]
    },
    {
      "cell_type": "markdown",
      "metadata": {
        "id": "opK4DHHIbxYc"
      },
      "source": [
        "here are few conclusions from the histogram\n",
        "most of the data for beauty is around the -0.5 and 0\n",
        "the distribution is skewed to the right\n",
        "therefore looking at the data we can say the mean is close to 0\n"
      ]
    },
    {
      "cell_type": "markdown",
      "metadata": {
        "id": "iJmr_UsNbxYc"
      },
      "source": [
        "### Does average beauty score differ by gender? Produce the means and standard deviations for both male and female instructors.\n"
      ]
    },
    {
      "cell_type": "markdown",
      "metadata": {
        "id": "JsdtBk5QbxYd"
      },
      "source": [
        "Use a group by gender to view the mean scores of the beauty we can say that beauty scores differ by gender as the mean beauty score for women is higher than men\n"
      ]
    },
    {
      "cell_type": "code",
      "execution_count": null,
      "metadata": {
        "id": "w1ZNzq76bxYd"
      },
      "outputs": [],
      "source": [
        "ratings_df.groupby('gender').agg({'beauty':['mean', 'std', 'var']}).reset_index()"
      ]
    },
    {
      "cell_type": "markdown",
      "metadata": {
        "id": "Kc7P1rfhbxYd"
      },
      "source": [
        "### Calculate the percentage of males and females that are tenured professors. Will you say that tenure status differ by gender?\n"
      ]
    },
    {
      "cell_type": "markdown",
      "metadata": {
        "id": "gef0p0labxYd"
      },
      "source": [
        "First groupby to get the total sum\n"
      ]
    },
    {
      "cell_type": "code",
      "execution_count": null,
      "metadata": {
        "id": "LbPfOAjgbxYd"
      },
      "outputs": [],
      "source": [
        "tenure_count = ratings_df[ratings_df.tenure == 'yes'].groupby('gender').agg({'tenure': 'count'}).reset_index()"
      ]
    },
    {
      "cell_type": "markdown",
      "metadata": {
        "id": "q0-_l-jbbxYd"
      },
      "source": [
        "Find the percentage\n"
      ]
    },
    {
      "cell_type": "code",
      "execution_count": null,
      "metadata": {
        "id": "JCPBNFaGbxYe"
      },
      "outputs": [],
      "source": [
        "tenure_count['percentage'] = 100 * tenure_count.tenure/tenure_count.tenure.sum()\n",
        "tenure_count"
      ]
    },
    {
      "cell_type": "markdown",
      "metadata": {
        "id": "Joai1OSbbxYe"
      },
      "source": [
        "## Practice Questions\n"
      ]
    },
    {
      "cell_type": "markdown",
      "metadata": {
        "id": "wGxIG2A-bxYe"
      },
      "source": [
        "### Question 1: Calculate the percentage of visible minorities are tenure professors. Will you say that tenure status differed if teacher was a visible minority?\n"
      ]
    },
    {
      "cell_type": "code",
      "execution_count": null,
      "metadata": {
        "id": "F-WPWuJzbxYe"
      },
      "outputs": [],
      "source": [
        "## insert code here\n",
        "tenure_counts = ratings_df[ratings_df.tenure == \"yes\"].groupby(\"minority\").agg({\"tenure\": \"count\"}).reset_index()\n",
        "tenure_counts[\"percentage\"] = 100 * tenure_counts.tenure / tenure_counts.tenure.sum()\n",
        "tenure_counts"
      ]
    },
    {
      "cell_type": "markdown",
      "metadata": {
        "id": "cf80BtGNbxYe"
      },
      "source": [
        "Double-click **here** for the solution.\n",
        "\n",
        "<!-- The answer is below:\n",
        "### we can use a groupby function for this\n",
        "## first groupby to get the total sum\n",
        "tenure_count = ratings_df.groupby('minority').agg({'tenure': 'count'}).reset_index()\n",
        "# Find the percentage\n",
        "tenure_count['percentage'] = 100 * tenure_count.tenure/tenure_count.tenure.sum()\n",
        "##print to see\n",
        "tenure_count\n",
        "-->\n"
      ]
    },
    {
      "cell_type": "markdown",
      "metadata": {
        "id": "YNSiggbwbxYe"
      },
      "source": [
        "### Question 2: Does average age differ by tenure? Produce the means and standard deviations for both tenured and untenured professors.\n"
      ]
    },
    {
      "cell_type": "code",
      "execution_count": null,
      "metadata": {
        "id": "4kcmjBMRbxYf"
      },
      "outputs": [],
      "source": [
        "## insert code here\n",
        "ratings_df.groupby(\"tenure\").agg({\"age\":[\"mean\", \"std\"]}).reset_index()"
      ]
    },
    {
      "cell_type": "markdown",
      "metadata": {
        "id": "hlhVl4vabxYf"
      },
      "source": [
        "Double-click **here** for the solution.\n",
        "\n",
        "<!-- The answer is below:\n",
        "## group by tenureship and find the mean and standard deviation for each group\n",
        "ratings_df.groupby('tenure').agg({'age':['mean', 'std']}).reset_index()\n",
        "-->\n"
      ]
    },
    {
      "cell_type": "markdown",
      "metadata": {
        "id": "7bGhPp7KbxYg"
      },
      "source": [
        "### Question 3: Create a histogram for the age variable.\n"
      ]
    },
    {
      "cell_type": "code",
      "execution_count": null,
      "metadata": {
        "id": "pmYVmGt7bxYg"
      },
      "outputs": [],
      "source": [
        "## insert code here\n",
        "pyplot.hist(ratings_df.age)\n",
        "pyplot.show()"
      ]
    },
    {
      "cell_type": "markdown",
      "metadata": {
        "id": "WCWvvsK5bxYg"
      },
      "source": [
        "Double-click **here** for the solution.\n",
        "\n",
        "<!-- The answer is below:\n",
        "pyplot.hist(ratings_df['age'])\n",
        "-->\n"
      ]
    },
    {
      "cell_type": "markdown",
      "metadata": {
        "id": "_Vuyfe8fbxYh"
      },
      "source": [
        "### Question 4: Create a bar plot for the gender variable.\n"
      ]
    },
    {
      "cell_type": "code",
      "execution_count": null,
      "metadata": {
        "id": "9HDKd8UObxYh"
      },
      "outputs": [],
      "source": [
        "## insert code here\n",
        "df1 = ratings_df.groupby(\"gender\").count()\n",
        "pyplot.bar([\"female\",\"male\"], height = df1[\"minority\"], color = [\"blue\", \"green\"])\n",
        "pyplot.ylabel(\"count\")\n",
        "pyplot.show()"
      ]
    },
    {
      "cell_type": "code",
      "source": [
        "pyplot.barh(ratings_df.gender.unique(), \\\n",
        "            ratings_df.gender.value_counts())\n",
        "pyplot.xlabel('Gender')\n",
        "pyplot.ylabel('Count')\n",
        "pyplot.title('Gender distribution bar plot')\n",
        "pyplot.show()"
      ],
      "metadata": {
        "id": "_ls50BK4b_Au"
      },
      "execution_count": null,
      "outputs": []
    },
    {
      "cell_type": "markdown",
      "metadata": {
        "id": "dgjgnLzWbxYh"
      },
      "source": [
        "Double-click **here** for the solution.\n",
        "\n",
        "<!-- The answer is below:\n",
        "pyplot.bar(ratings_df.gender.unique(),ratings_df.gender.value_counts(),color=['pink','blue'])\n",
        "pyplot.xlabel('Gender')\n",
        "pyplot.ylabel('Count')\n",
        "pyplot.title('Gender distribution bar plot')\n",
        "-->\n"
      ]
    },
    {
      "cell_type": "markdown",
      "metadata": {
        "id": "PIjCnz76bxYh"
      },
      "source": [
        "> Note:Bar plot can be rendered vertically or horizontally. Try to replace **pyplot.bar** with **pyplot.barh** in the above cell and see the difference.\n"
      ]
    },
    {
      "cell_type": "markdown",
      "metadata": {
        "id": "vzyDTkjJbxYh"
      },
      "source": [
        "### Question 5: What is the Median evaluation score for tenured Professors?\n"
      ]
    },
    {
      "cell_type": "code",
      "execution_count": null,
      "metadata": {
        "id": "sb07iHwBbxYi"
      },
      "outputs": [],
      "source": [
        "## insert code here\n",
        "ratings_df[ratings_df.tenure == \"yes\"][\"eval\"].median()"
      ]
    },
    {
      "cell_type": "markdown",
      "metadata": {
        "id": "KsNu0nGIbxYi"
      },
      "source": [
        "Double-click **here** for the solution.\n",
        "\n",
        "<!-- The answer is below:\n",
        "## you can index just tenured professors and find their median evaluation scores\n",
        "ratings_df[ratings_df['tenure'] == 'yes']['eval'].median()\n",
        "-->\n"
      ]
    },
    {
      "cell_type": "markdown",
      "metadata": {
        "id": "zdDXGg8jbxYi"
      },
      "source": [
        "## Authors\n"
      ]
    },
    {
      "cell_type": "markdown",
      "metadata": {
        "id": "A3SgdyA7bxYj"
      },
      "source": [
        "[Aije Egwaikhide](https://www.linkedin.com/in/aije-egwaikhide/?utm_medium=Exinfluencer&utm_source=Exinfluencer&utm_content=000026UJ&utm_term=10006555&utm_id=NA-SkillsNetwork-Channel-SkillsNetworkCoursesIBMDeveloperSkillsNetworkST0151ENSkillsNetwork20531532-2022-01-01) is a Data Scientist at IBM who holds a degree in Economics and Statistics from the University of Manitoba and a Post-grad in Business Analytics from St. Lawrence College, Kingston. She is a current employee of IBM where she started as a Junior Data Scientist at the Global Business Services (GBS) in 2018. Her main role was making meaning out of data for their Oil and Gas clients through basic statistics and advanced Machine Learning algorithms. The highlight of her time in GBS was creating a customized end-to-end Machine learning and Statistics solution on optimizing operations in the Oil and Gas wells. She moved to the Cognitive Systems Group as a Senior Data Scientist where she will be providing the team with actionable insights using Data Science techniques and further improve processes through building machine learning solutions. She recently joined the IBM Developer Skills Network group where she brings her real-world experience to the courses she creates.\n"
      ]
    },
    {
      "cell_type": "markdown",
      "metadata": {
        "id": "80uGdQ9hbxYj"
      },
      "source": [
        "## Change Log\n"
      ]
    },
    {
      "cell_type": "markdown",
      "metadata": {
        "id": "k0BxuMj6bxYk"
      },
      "source": [
        "| Date (YYYY-MM-DD) | Version | Changed By      | Change Description                     |\n",
        "| ----------------- | ------- | --------------- | -------------------------------------- |\n",
        "| 2020-08-14        | 0.1     | Aije Egwaikhide | Created the initial version of the lab |\n",
        "| 2022-05-10        | 0.2     | Lakshmi Holla   | Added exercise for Bar plot            |\n"
      ]
    },
    {
      "cell_type": "markdown",
      "metadata": {
        "id": "XIjVSdbObxYk"
      },
      "source": [
        "Copyright © 2020 IBM Corporation. This notebook and its source code are released under the terms of the [MIT License](https://cognitiveclass.ai/mit-license/?utm_medium=Exinfluencer&utm_source=Exinfluencer&utm_content=000026UJ&utm_term=10006555&utm_id=NA-SkillsNetwork-Channel-SkillsNetworkCoursesIBMDeveloperSkillsNetworkST0151ENSkillsNetwork20531532-2022-01-01).\n"
      ]
    }
  ],
  "metadata": {
    "kernelspec": {
      "display_name": "Python 3",
      "language": "python",
      "name": "python3"
    },
    "language_info": {
      "codemirror_mode": {
        "name": "ipython",
        "version": 3
      },
      "file_extension": ".py",
      "mimetype": "text/x-python",
      "name": "python",
      "nbconvert_exporter": "python",
      "pygments_lexer": "ipython3",
      "version": "3.8.8"
    },
    "colab": {
      "provenance": []
    }
  },
  "nbformat": 4,
  "nbformat_minor": 0
}