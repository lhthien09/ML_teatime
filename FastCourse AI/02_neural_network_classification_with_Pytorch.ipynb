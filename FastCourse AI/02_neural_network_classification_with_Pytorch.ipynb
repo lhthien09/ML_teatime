{
  "nbformat": 4,
  "nbformat_minor": 0,
  "metadata": {
    "colab": {
      "provenance": [],
      "collapsed_sections": []
    },
    "kernelspec": {
      "name": "python3",
      "display_name": "Python 3"
    },
    "language_info": {
      "name": "python"
    },
    "accelerator": "GPU",
    "gpuClass": "standard"
  },
  "cells": [
    {
      "cell_type": "markdown",
      "source": [
        "# 02. Neural network classification with Pytorch"
      ],
      "metadata": {
        "id": "pLK2YW2l9aAK"
      }
    },
    {
      "cell_type": "markdown",
      "source": [
        "## 1. Make some data and get it ready:"
      ],
      "metadata": {
        "id": "oX4Od4NC9Elx"
      }
    },
    {
      "cell_type": "code",
      "source": [
        "import sklearn\n",
        "from sklearn.datasets import make_circles"
      ],
      "metadata": {
        "id": "Lmc6L7XA9rzF"
      },
      "execution_count": 1,
      "outputs": []
    },
    {
      "cell_type": "code",
      "source": [
        "# Make 1000 samples\n",
        "n_samples = 1000\n",
        "\n",
        "# Create circles\n",
        "X, y = make_circles(n_samples, \n",
        "                                      noise = 0.03, \n",
        "                                      random_state = 42)"
      ],
      "metadata": {
        "id": "86zJdLkf_DKr"
      },
      "execution_count": 2,
      "outputs": []
    },
    {
      "cell_type": "code",
      "source": [
        "len(X),len(y)"
      ],
      "metadata": {
        "colab": {
          "base_uri": "https://localhost:8080/"
        },
        "id": "QByNk-i__OSt",
        "outputId": "b3b6d3a6-7f98-475b-ddf8-fb419f82b558"
      },
      "execution_count": 3,
      "outputs": [
        {
          "output_type": "execute_result",
          "data": {
            "text/plain": [
              "(1000, 1000)"
            ]
          },
          "metadata": {},
          "execution_count": 3
        }
      ]
    },
    {
      "cell_type": "code",
      "source": [
        "print(f\"First 5 samples of X: {X[:5]}\")\n",
        "print(f\"First 5 samples of y: {y[:5]}\")"
      ],
      "metadata": {
        "colab": {
          "base_uri": "https://localhost:8080/"
        },
        "id": "1R9pUvQC_Qt8",
        "outputId": "c05a9dab-eb79-4850-aceb-5c561e35fd2e"
      },
      "execution_count": 4,
      "outputs": [
        {
          "output_type": "stream",
          "name": "stdout",
          "text": [
            "First 5 samples of X: [[ 0.75424625  0.23148074]\n",
            " [-0.75615888  0.15325888]\n",
            " [-0.81539193  0.17328203]\n",
            " [-0.39373073  0.69288277]\n",
            " [ 0.44220765 -0.89672343]]\n",
            "First 5 samples of y: [1 1 1 1 0]\n"
          ]
        }
      ]
    },
    {
      "cell_type": "code",
      "source": [
        "# Make dataframe:\n",
        "import pandas as pd\n",
        "circles = pd.DataFrame({\"X1\": X[:, 0], \n",
        "                                               \"X2\": X[:, 1], \n",
        "                                              \"label\": y})\n",
        "\n",
        "circles.head()"
      ],
      "metadata": {
        "colab": {
          "base_uri": "https://localhost:8080/",
          "height": 206
        },
        "id": "63grnt3d_Y3f",
        "outputId": "8ac8a85b-a9d2-4da0-a678-24185111717f"
      },
      "execution_count": 5,
      "outputs": [
        {
          "output_type": "execute_result",
          "data": {
            "text/plain": [
              "         X1        X2  label\n",
              "0  0.754246  0.231481      1\n",
              "1 -0.756159  0.153259      1\n",
              "2 -0.815392  0.173282      1\n",
              "3 -0.393731  0.692883      1\n",
              "4  0.442208 -0.896723      0"
            ],
            "text/html": [
              "\n",
              "  <div id=\"df-28e9f3d7-cf76-44dd-b3e5-3006a3b93df6\">\n",
              "    <div class=\"colab-df-container\">\n",
              "      <div>\n",
              "<style scoped>\n",
              "    .dataframe tbody tr th:only-of-type {\n",
              "        vertical-align: middle;\n",
              "    }\n",
              "\n",
              "    .dataframe tbody tr th {\n",
              "        vertical-align: top;\n",
              "    }\n",
              "\n",
              "    .dataframe thead th {\n",
              "        text-align: right;\n",
              "    }\n",
              "</style>\n",
              "<table border=\"1\" class=\"dataframe\">\n",
              "  <thead>\n",
              "    <tr style=\"text-align: right;\">\n",
              "      <th></th>\n",
              "      <th>X1</th>\n",
              "      <th>X2</th>\n",
              "      <th>label</th>\n",
              "    </tr>\n",
              "  </thead>\n",
              "  <tbody>\n",
              "    <tr>\n",
              "      <th>0</th>\n",
              "      <td>0.754246</td>\n",
              "      <td>0.231481</td>\n",
              "      <td>1</td>\n",
              "    </tr>\n",
              "    <tr>\n",
              "      <th>1</th>\n",
              "      <td>-0.756159</td>\n",
              "      <td>0.153259</td>\n",
              "      <td>1</td>\n",
              "    </tr>\n",
              "    <tr>\n",
              "      <th>2</th>\n",
              "      <td>-0.815392</td>\n",
              "      <td>0.173282</td>\n",
              "      <td>1</td>\n",
              "    </tr>\n",
              "    <tr>\n",
              "      <th>3</th>\n",
              "      <td>-0.393731</td>\n",
              "      <td>0.692883</td>\n",
              "      <td>1</td>\n",
              "    </tr>\n",
              "    <tr>\n",
              "      <th>4</th>\n",
              "      <td>0.442208</td>\n",
              "      <td>-0.896723</td>\n",
              "      <td>0</td>\n",
              "    </tr>\n",
              "  </tbody>\n",
              "</table>\n",
              "</div>\n",
              "      <button class=\"colab-df-convert\" onclick=\"convertToInteractive('df-28e9f3d7-cf76-44dd-b3e5-3006a3b93df6')\"\n",
              "              title=\"Convert this dataframe to an interactive table.\"\n",
              "              style=\"display:none;\">\n",
              "        \n",
              "  <svg xmlns=\"http://www.w3.org/2000/svg\" height=\"24px\"viewBox=\"0 0 24 24\"\n",
              "       width=\"24px\">\n",
              "    <path d=\"M0 0h24v24H0V0z\" fill=\"none\"/>\n",
              "    <path d=\"M18.56 5.44l.94 2.06.94-2.06 2.06-.94-2.06-.94-.94-2.06-.94 2.06-2.06.94zm-11 1L8.5 8.5l.94-2.06 2.06-.94-2.06-.94L8.5 2.5l-.94 2.06-2.06.94zm10 10l.94 2.06.94-2.06 2.06-.94-2.06-.94-.94-2.06-.94 2.06-2.06.94z\"/><path d=\"M17.41 7.96l-1.37-1.37c-.4-.4-.92-.59-1.43-.59-.52 0-1.04.2-1.43.59L10.3 9.45l-7.72 7.72c-.78.78-.78 2.05 0 2.83L4 21.41c.39.39.9.59 1.41.59.51 0 1.02-.2 1.41-.59l7.78-7.78 2.81-2.81c.8-.78.8-2.07 0-2.86zM5.41 20L4 18.59l7.72-7.72 1.47 1.35L5.41 20z\"/>\n",
              "  </svg>\n",
              "      </button>\n",
              "      \n",
              "  <style>\n",
              "    .colab-df-container {\n",
              "      display:flex;\n",
              "      flex-wrap:wrap;\n",
              "      gap: 12px;\n",
              "    }\n",
              "\n",
              "    .colab-df-convert {\n",
              "      background-color: #E8F0FE;\n",
              "      border: none;\n",
              "      border-radius: 50%;\n",
              "      cursor: pointer;\n",
              "      display: none;\n",
              "      fill: #1967D2;\n",
              "      height: 32px;\n",
              "      padding: 0 0 0 0;\n",
              "      width: 32px;\n",
              "    }\n",
              "\n",
              "    .colab-df-convert:hover {\n",
              "      background-color: #E2EBFA;\n",
              "      box-shadow: 0px 1px 2px rgba(60, 64, 67, 0.3), 0px 1px 3px 1px rgba(60, 64, 67, 0.15);\n",
              "      fill: #174EA6;\n",
              "    }\n",
              "\n",
              "    [theme=dark] .colab-df-convert {\n",
              "      background-color: #3B4455;\n",
              "      fill: #D2E3FC;\n",
              "    }\n",
              "\n",
              "    [theme=dark] .colab-df-convert:hover {\n",
              "      background-color: #434B5C;\n",
              "      box-shadow: 0px 1px 3px 1px rgba(0, 0, 0, 0.15);\n",
              "      filter: drop-shadow(0px 1px 2px rgba(0, 0, 0, 0.3));\n",
              "      fill: #FFFFFF;\n",
              "    }\n",
              "  </style>\n",
              "\n",
              "      <script>\n",
              "        const buttonEl =\n",
              "          document.querySelector('#df-28e9f3d7-cf76-44dd-b3e5-3006a3b93df6 button.colab-df-convert');\n",
              "        buttonEl.style.display =\n",
              "          google.colab.kernel.accessAllowed ? 'block' : 'none';\n",
              "\n",
              "        async function convertToInteractive(key) {\n",
              "          const element = document.querySelector('#df-28e9f3d7-cf76-44dd-b3e5-3006a3b93df6');\n",
              "          const dataTable =\n",
              "            await google.colab.kernel.invokeFunction('convertToInteractive',\n",
              "                                                     [key], {});\n",
              "          if (!dataTable) return;\n",
              "\n",
              "          const docLinkHtml = 'Like what you see? Visit the ' +\n",
              "            '<a target=\"_blank\" href=https://colab.research.google.com/notebooks/data_table.ipynb>data table notebook</a>'\n",
              "            + ' to learn more about interactive tables.';\n",
              "          element.innerHTML = '';\n",
              "          dataTable['output_type'] = 'display_data';\n",
              "          await google.colab.output.renderOutput(dataTable, element);\n",
              "          const docLink = document.createElement('div');\n",
              "          docLink.innerHTML = docLinkHtml;\n",
              "          element.appendChild(docLink);\n",
              "        }\n",
              "      </script>\n",
              "    </div>\n",
              "  </div>\n",
              "  "
            ]
          },
          "metadata": {},
          "execution_count": 5
        }
      ]
    },
    {
      "cell_type": "code",
      "source": [
        "# Visualize:\n",
        "import matplotlib.pyplot as plt\n",
        "plt.scatter(x = X[:, 0], y = X[:, 1], c= y, cmap = plt.cm.RdYlBu)"
      ],
      "metadata": {
        "colab": {
          "base_uri": "https://localhost:8080/",
          "height": 282
        },
        "id": "Z0_6Wxh0_4DM",
        "outputId": "9915a47a-6e1d-4f31-c82f-18e211d91cf0"
      },
      "execution_count": 6,
      "outputs": [
        {
          "output_type": "execute_result",
          "data": {
            "text/plain": [
              "<matplotlib.collections.PathCollection at 0x7f4e19149850>"
            ]
          },
          "metadata": {},
          "execution_count": 6
        },
        {
          "output_type": "display_data",
          "data": {
            "text/plain": [
              "<Figure size 432x288 with 1 Axes>"
            ],
            "image/png": "[encoded data removed]"
          },
          "metadata": {
            "needs_background": "light"
          }
        }
      ]
    },
    {
      "cell_type": "markdown",
      "source": [
        "Note the data we're working with is often referred to as a toy dataset but still sizeable enough."
      ],
      "metadata": {
        "id": "2J40dzEHAGyt"
      }
    },
    {
      "cell_type": "markdown",
      "source": [
        "### 1.1 Check input and output shape:"
      ],
      "metadata": {
        "id": "zCwQVcaRAdRS"
      }
    },
    {
      "cell_type": "code",
      "source": [
        "X.shape, y.shape"
      ],
      "metadata": {
        "colab": {
          "base_uri": "https://localhost:8080/"
        },
        "id": "SIhSpZP5AhWc",
        "outputId": "ae5b272c-c81d-4b5a-cc25-a9dbcd03024c"
      },
      "execution_count": 7,
      "outputs": [
        {
          "output_type": "execute_result",
          "data": {
            "text/plain": [
              "((1000, 2), (1000,))"
            ]
          },
          "metadata": {},
          "execution_count": 7
        }
      ]
    },
    {
      "cell_type": "code",
      "source": [
        "X"
      ],
      "metadata": {
        "colab": {
          "base_uri": "https://localhost:8080/"
        },
        "id": "U2lJzb0QAmem",
        "outputId": "3d428b0c-27a0-4b53-8518-7203c5b8e64f"
      },
      "execution_count": 8,
      "outputs": [
        {
          "output_type": "execute_result",
          "data": {
            "text/plain": [
              "array([[ 0.75424625,  0.23148074],\n",
              "       [-0.75615888,  0.15325888],\n",
              "       [-0.81539193,  0.17328203],\n",
              "       ...,\n",
              "       [-0.13690036, -0.81001183],\n",
              "       [ 0.67036156, -0.76750154],\n",
              "       [ 0.28105665,  0.96382443]])"
            ]
          },
          "metadata": {},
          "execution_count": 8
        }
      ]
    },
    {
      "cell_type": "markdown",
      "source": [
        "## 1.2 Turn data into tensors and create train& test splits"
      ],
      "metadata": {
        "id": "jGE6ogpuAn0y"
      }
    },
    {
      "cell_type": "code",
      "source": [
        "import torch\n",
        "torch.__version__"
      ],
      "metadata": {
        "colab": {
          "base_uri": "https://localhost:8080/",
          "height": 35
        },
        "id": "dzWhiL3MBHUH",
        "outputId": "527bced5-1ca5-42dc-fa69-8e9797e9cdf5"
      },
      "execution_count": 9,
      "outputs": [
        {
          "output_type": "execute_result",
          "data": {
            "text/plain": [
              "'1.12.1+cu113'"
            ],
            "application/vnd.google.colaboratory.intrinsic+json": {
              "type": "string"
            }
          },
          "metadata": {},
          "execution_count": 9
        }
      ]
    },
    {
      "cell_type": "code",
      "source": [
        "type(X), X.dtype"
      ],
      "metadata": {
        "colab": {
          "base_uri": "https://localhost:8080/"
        },
        "id": "-8Jotm36BKcC",
        "outputId": "e310bd06-72b1-4908-9361-efb88ddc7e8f"
      },
      "execution_count": 10,
      "outputs": [
        {
          "output_type": "execute_result",
          "data": {
            "text/plain": [
              "(numpy.ndarray, dtype('float64'))"
            ]
          },
          "metadata": {},
          "execution_count": 10
        }
      ]
    },
    {
      "cell_type": "code",
      "source": [
        "# Turn data into tensors:\n",
        "X = torch.from_numpy(X).type(torch.float)\n",
        "y = torch.from_numpy(y).type(torch.float)\n",
        "\n",
        "X[:5], y[:5]"
      ],
      "metadata": {
        "colab": {
          "base_uri": "https://localhost:8080/"
        },
        "id": "ddmthoMLBQ1Z",
        "outputId": "c13ff40f-72be-4c9c-e21e-1bca6c2fd3de"
      },
      "execution_count": 11,
      "outputs": [
        {
          "output_type": "execute_result",
          "data": {
            "text/plain": [
              "(tensor([[ 0.7542,  0.2315],\n",
              "         [-0.7562,  0.1533],\n",
              "         [-0.8154,  0.1733],\n",
              "         [-0.3937,  0.6929],\n",
              "         [ 0.4422, -0.8967]]), tensor([1., 1., 1., 1., 0.]))"
            ]
          },
          "metadata": {},
          "execution_count": 11
        }
      ]
    },
    {
      "cell_type": "code",
      "source": [
        "type(X), X.dtype, y.dtype"
      ],
      "metadata": {
        "colab": {
          "base_uri": "https://localhost:8080/"
        },
        "id": "MxdSleViB52L",
        "outputId": "428c3f96-da1e-4814-a2d5-3ac7d50fc53a"
      },
      "execution_count": 12,
      "outputs": [
        {
          "output_type": "execute_result",
          "data": {
            "text/plain": [
              "(torch.Tensor, torch.float32, torch.float32)"
            ]
          },
          "metadata": {},
          "execution_count": 12
        }
      ]
    },
    {
      "cell_type": "code",
      "source": [
        "# Split data into training and test sets:\n",
        "\n",
        "from sklearn.model_selection import train_test_split\n",
        "\n",
        "X_train, X_test, y_train, y_test  = train_test_split(X, y, test_size = 0.2, random_state = 42)"
      ],
      "metadata": {
        "id": "1DxIrz0aB94u"
      },
      "execution_count": 13,
      "outputs": []
    },
    {
      "cell_type": "code",
      "source": [
        "len(X_train), len(X_test)"
      ],
      "metadata": {
        "colab": {
          "base_uri": "https://localhost:8080/"
        },
        "id": "8M_ozW8vEmlB",
        "outputId": "0c99d57e-0190-42d1-9d67-2a77efa818f6"
      },
      "execution_count": 14,
      "outputs": [
        {
          "output_type": "execute_result",
          "data": {
            "text/plain": [
              "(800, 200)"
            ]
          },
          "metadata": {},
          "execution_count": 14
        }
      ]
    },
    {
      "cell_type": "code",
      "source": [
        "n_samples =  1000"
      ],
      "metadata": {
        "id": "rhts76WEEpMX"
      },
      "execution_count": 15,
      "outputs": []
    },
    {
      "cell_type": "markdown",
      "source": [
        "## 2. Building a model\n",
        "\n",
        "Let's build a model to classify our blue and red dots.\n",
        "\n",
        "1. Setup device agnostic code so our code will run on an accelerator (GPU).\n",
        "2. Construct a model (nn.Module)\n",
        "3. Define a loss function and optimizer\n",
        "4. Create a training and test loop"
      ],
      "metadata": {
        "id": "Ur-F_SznE4KD"
      }
    },
    {
      "cell_type": "code",
      "source": [
        "# Import Pytorch and nn\n",
        "import torch\n",
        "from torch import nn\n",
        "\n",
        "# Make device agnostic code\n",
        "device = \"cuda\" if torch.cuda.is_available() else \"cpu\"\n",
        "device"
      ],
      "metadata": {
        "colab": {
          "base_uri": "https://localhost:8080/",
          "height": 35
        },
        "id": "aHkdIyWsFQdS",
        "outputId": "899e9a88-2d52-4e51-ae79-81286f5c7acd"
      },
      "execution_count": 16,
      "outputs": [
        {
          "output_type": "execute_result",
          "data": {
            "text/plain": [
              "'cpu'"
            ],
            "application/vnd.google.colaboratory.intrinsic+json": {
              "type": "string"
            }
          },
          "metadata": {},
          "execution_count": 16
        }
      ]
    },
    {
      "cell_type": "markdown",
      "source": [
        "1. Subclassess `nn.Module` (almost all models in Pytorch)\n",
        "2. Create 2 `nn.Linear()` layers capable of handling the shapes of our data\n",
        "3. Define a `forward()` method that outlines the forward pass of the model\n",
        "4. Instantiate an instance of our model class and send it to the target `device`"
      ],
      "metadata": {
        "id": "BgTZ5hDUFcJ9"
      }
    },
    {
      "cell_type": "code",
      "source": [
        "# 1. Construct a model that subclassess nn.Module\n",
        "class CircleModelV0(nn.Module):\n",
        "        def __init__(self):\n",
        "            super().__init__()\n",
        "            # 2. Create 2 nn.Linear layers capable of handling the shapes of our data\n",
        "            self.layer_1 = nn.Linear(in_features  = 2, out_features = 8) # takes in 2 features and upscales to 5 features\n",
        "            self.layer_2 = nn.Linear(in_features = 8, out_features = 1) # takes in 5 features and outputs a single feature.\n",
        "\n",
        "            #self.two_linear_layers = nn.Sequential(nn.Linear(in_features = 2, out_features = 8),\n",
        "            #                                                                            nn.Linear(in_features = 8, out_features = 1))\n",
        "        \n",
        "        # 3. Define a forward() method that outlines the forward pass\n",
        "        def forward(self, x):\n",
        "            return self.layer_2(self.layer_1(x))  # x --> layer_1  --> layer_2 --> output\n",
        "            #return self.two_linear_layers(x)\n",
        "\n",
        "\n",
        "\n",
        "\n",
        "# 4. Instantiate an instance of our model class and send it to the target device\n",
        "m1 = CircleModelV0().to(device)\n",
        "m1"
      ],
      "metadata": {
        "colab": {
          "base_uri": "https://localhost:8080/"
        },
        "id": "tWXyIUN6Fu6Z",
        "outputId": "660b913c-ca6d-430e-d00c-d1e7b9c64fa5"
      },
      "execution_count": 17,
      "outputs": [
        {
          "output_type": "execute_result",
          "data": {
            "text/plain": [
              "CircleModelV0(\n",
              "  (layer_1): Linear(in_features=2, out_features=8, bias=True)\n",
              "  (layer_2): Linear(in_features=8, out_features=1, bias=True)\n",
              ")"
            ]
          },
          "metadata": {},
          "execution_count": 17
        }
      ]
    },
    {
      "cell_type": "code",
      "source": [
        "device"
      ],
      "metadata": {
        "colab": {
          "base_uri": "https://localhost:8080/",
          "height": 35
        },
        "id": "jVO347i-IqA5",
        "outputId": "89432ab3-2fcc-405f-bf54-38229d6e419f"
      },
      "execution_count": 18,
      "outputs": [
        {
          "output_type": "execute_result",
          "data": {
            "text/plain": [
              "'cpu'"
            ],
            "application/vnd.google.colaboratory.intrinsic+json": {
              "type": "string"
            }
          },
          "metadata": {},
          "execution_count": 18
        }
      ]
    },
    {
      "cell_type": "code",
      "source": [
        "next(m1.parameters()).device"
      ],
      "metadata": {
        "colab": {
          "base_uri": "https://localhost:8080/"
        },
        "id": "bHAg0mBJFu9U",
        "outputId": "6348b322-dc57-4178-c2f7-24847c0d815e"
      },
      "execution_count": 19,
      "outputs": [
        {
          "output_type": "execute_result",
          "data": {
            "text/plain": [
              "device(type='cpu')"
            ]
          },
          "metadata": {},
          "execution_count": 19
        }
      ]
    },
    {
      "cell_type": "code",
      "source": [
        "# Let's replicate the model above using nn.Sequential()\n",
        "\n",
        "#m1 = nn.Sequential(nn.Linear(in_features = 2, out_features = 8),\n",
        " #                                     nn.Linear(in_features = 8, out_features = 1)).to(device)\n",
        "\n",
        "#m1"
      ],
      "metadata": {
        "id": "hwzTttuXFu_m"
      },
      "execution_count": 20,
      "outputs": []
    },
    {
      "cell_type": "code",
      "source": [
        "m1.state_dict()"
      ],
      "metadata": {
        "colab": {
          "base_uri": "https://localhost:8080/"
        },
        "id": "lkJaRkF8FvDN",
        "outputId": "b86120ab-d79c-4412-b8ca-167122bf6e05"
      },
      "execution_count": 21,
      "outputs": [
        {
          "output_type": "execute_result",
          "data": {
            "text/plain": [
              "OrderedDict([('layer_1.weight', tensor([[ 0.5054,  0.4919],\n",
              "                      [-0.3736,  0.6344],\n",
              "                      [-0.3830,  0.5132],\n",
              "                      [-0.1729, -0.0169],\n",
              "                      [-0.6164,  0.1965],\n",
              "                      [ 0.1528, -0.4132],\n",
              "                      [-0.2860, -0.0343],\n",
              "                      [-0.4257,  0.1709]])),\n",
              "             ('layer_1.bias',\n",
              "              tensor([-0.6093, -0.5994,  0.0134,  0.0293,  0.1328, -0.2107,  0.0681,  0.5062])),\n",
              "             ('layer_2.weight',\n",
              "              tensor([[ 0.1790, -0.1365, -0.0947,  0.0034, -0.0555, -0.1013, -0.3528, -0.1483]])),\n",
              "             ('layer_2.bias', tensor([-0.1787]))])"
            ]
          },
          "metadata": {},
          "execution_count": 21
        }
      ]
    },
    {
      "cell_type": "code",
      "source": [
        "# Change data type\n",
        "# X_test = torch.from_numpy(X_test)\n",
        "\n",
        "# Make predictions:\n",
        "with torch.inference_mode():\n",
        "    untrained_preds = m1(X_test.to(device))\n",
        "print(f\"Length of predictions: {len(untrained_preds)}, Shape: {untrained_preds.shape}\")\n",
        "print(f\"Length of test samples: {len(X_test)}, Shape: {X_test.shape}\")\n",
        "print(f\"\\nFirst 10 predictions:\\n{torch.round(untrained_preds[:10])}\")\n",
        "print(f\"\\nFirst 10 labels:\\n{y_test[:10]}\")"
      ],
      "metadata": {
        "colab": {
          "base_uri": "https://localhost:8080/"
        },
        "id": "0d2r46raFvOr",
        "outputId": "9db364ef-03d7-46d7-c4d3-49f14cf89c03"
      },
      "execution_count": 22,
      "outputs": [
        {
          "output_type": "stream",
          "name": "stdout",
          "text": [
            "Length of predictions: 200, Shape: torch.Size([200, 1])\n",
            "Length of test samples: 200, Shape: torch.Size([200, 2])\n",
            "\n",
            "First 10 predictions:\n",
            "tensor([[-0.],\n",
            "        [-0.],\n",
            "        [-1.],\n",
            "        [-0.],\n",
            "        [-0.],\n",
            "        [-0.],\n",
            "        [-0.],\n",
            "        [ 0.],\n",
            "        [-1.],\n",
            "        [-0.]])\n",
            "\n",
            "First 10 labels:\n",
            "tensor([1., 0., 1., 0., 1., 1., 0., 0., 1., 0.])\n"
          ]
        }
      ]
    },
    {
      "cell_type": "markdown",
      "source": [
        "## 2.1 Setup loss function and optimizer:\n",
        "\n",
        "Which loss function or optimizer should we use? -> Problem specific. \n",
        "\n",
        "- Regresison: MAE or MSE\n",
        "- Classification: Binary cross entropy or categorical cross entropy.\n",
        "\n",
        "The loss function measures how *wrong* your models predictions are.\n",
        "\n",
        "And for optimizer, two most common opt are SGD and Adam.\n",
        "\n",
        "* For the loss function, we are going to use `torch.nn.BECWithLogitsLoss()`"
      ],
      "metadata": {
        "id": "8GZ4FiWCCQxK"
      }
    },
    {
      "cell_type": "code",
      "source": [
        "# Setup the loss function:\n",
        "# loss_fn = nn.BCELoss() # BCELoss requires inputs \n",
        "loss_fn = nn.BCEWithLogitsLoss()\n",
        "\n",
        "optimizer = torch.optim.SGD(params = m1.parameters(),\n",
        "                                                          lr = 0.1)"
      ],
      "metadata": {
        "id": "1_MrcC4W18MJ"
      },
      "execution_count": 23,
      "outputs": []
    },
    {
      "cell_type": "code",
      "source": [
        "# Calculate the accuracy:\n",
        "\n",
        "def accuracy_fn(y_true, y_pred):\n",
        "      correct =  torch.eq(y_true, y_pred).sum().item()\n",
        "      acc = (correct/len(y_pred))*100\n",
        "      return acc"
      ],
      "metadata": {
        "id": "IjvuObbgFAKf"
      },
      "execution_count": 24,
      "outputs": []
    },
    {
      "cell_type": "markdown",
      "source": [
        "## 3. Train model\n",
        "\n",
        "To train our model, we're going to build a training loop:\n",
        "\n",
        "1. Forward pass\n",
        "2. Calculate the loss\n",
        "3. Optimizer zero grad\n",
        "4. Loss backward\n",
        "5. Optimizer step"
      ],
      "metadata": {
        "id": "Rbc2Udbo3lSM"
      }
    },
    {
      "cell_type": "markdown",
      "source": [
        "### 3.1 Going from raw logits --> prediction probabilities --> prediction labels\n",
        "\n",
        "Our model outputs are going to be raw **logits**. \n",
        "\n",
        "We conver logits into prediction probability by passing them to activation functions (sigmoid for bin class, softmax for multiclass classification).\n",
        "\n",
        "Then we can convert our model's prediction probabilities to prediction labels by either rounding them."
      ],
      "metadata": {
        "id": "HCvwS9dZ3pIW"
      }
    },
    {
      "cell_type": "code",
      "source": [
        "# View the first 5 outputs of the forward pass on the test data:\n",
        "m1.eval()\n",
        "\n",
        "with torch.inference_mode():\n",
        "      y_logits = m1(X_test.to(device))[:5]\n",
        "y_logits"
      ],
      "metadata": {
        "colab": {
          "base_uri": "https://localhost:8080/"
        },
        "id": "nuWP_Dgx5Hhb",
        "outputId": "23d7e93a-a17e-40ab-9800-bc53b192c675"
      },
      "execution_count": 25,
      "outputs": [
        {
          "output_type": "execute_result",
          "data": {
            "text/plain": [
              "tensor([[-0.4474],\n",
              "        [-0.3150],\n",
              "        [-0.5359],\n",
              "        [-0.4234],\n",
              "        [-0.1255]])"
            ]
          },
          "metadata": {},
          "execution_count": 25
        }
      ]
    },
    {
      "cell_type": "code",
      "source": [
        "# Use the sigmoid function on our model logits\n",
        "\n",
        "y_pred_probs = torch.sigmoid(y_logits)\n",
        "y_pred_probs"
      ],
      "metadata": {
        "colab": {
          "base_uri": "https://localhost:8080/"
        },
        "id": "JGJG7dZl4C1d",
        "outputId": "4cb349ac-8702-43cd-a693-542f779e8fe9"
      },
      "execution_count": 26,
      "outputs": [
        {
          "output_type": "execute_result",
          "data": {
            "text/plain": [
              "tensor([[0.3900],\n",
              "        [0.4219],\n",
              "        [0.3691],\n",
              "        [0.3957],\n",
              "        [0.4687]])"
            ]
          },
          "metadata": {},
          "execution_count": 26
        }
      ]
    },
    {
      "cell_type": "code",
      "source": [],
      "metadata": {
        "id": "hgIjcbr367Mz"
      },
      "execution_count": 26,
      "outputs": []
    },
    {
      "cell_type": "code",
      "source": [
        "# Find the predicted labels:\n",
        "y_preds = torch.round(y_pred_probs)\n",
        "\n",
        "# In full\n",
        "y_pred_labels = torch.round(torch.sigmoid(m1(X_test.to(device))))"
      ],
      "metadata": {
        "id": "pjJBkuJp60hz"
      },
      "execution_count": 27,
      "outputs": []
    },
    {
      "cell_type": "code",
      "source": [
        "# Check for quality\n",
        "print(torch.eq(y_pred_labels[:5].squeeze(), y_preds.squeeze()))"
      ],
      "metadata": {
        "colab": {
          "base_uri": "https://localhost:8080/"
        },
        "id": "A9WmPrDm7dpF",
        "outputId": "88eb09a1-60d2-4f6a-aab4-50902651c253"
      },
      "execution_count": 28,
      "outputs": [
        {
          "output_type": "stream",
          "name": "stdout",
          "text": [
            "tensor([True, True, True, True, True])\n"
          ]
        }
      ]
    },
    {
      "cell_type": "code",
      "source": [
        "y_preds.squeeze()"
      ],
      "metadata": {
        "colab": {
          "base_uri": "https://localhost:8080/"
        },
        "id": "1I6io6_I7x_k",
        "outputId": "12df61e8-07d3-442a-f944-3e98ac4a454e"
      },
      "execution_count": 29,
      "outputs": [
        {
          "output_type": "execute_result",
          "data": {
            "text/plain": [
              "tensor([0., 0., 0., 0., 0.])"
            ]
          },
          "metadata": {},
          "execution_count": 29
        }
      ]
    },
    {
      "cell_type": "markdown",
      "source": [
        "### 3.2 Building a training and testing loop:"
      ],
      "metadata": {
        "id": "Wfa30QCS71tT"
      }
    },
    {
      "cell_type": "code",
      "source": [
        "device"
      ],
      "metadata": {
        "colab": {
          "base_uri": "https://localhost:8080/",
          "height": 35
        },
        "id": "FC-a40doZKnI",
        "outputId": "ed9dc656-67f5-4e2c-d89a-5960c3f03dee"
      },
      "execution_count": 30,
      "outputs": [
        {
          "output_type": "execute_result",
          "data": {
            "text/plain": [
              "'cpu'"
            ],
            "application/vnd.google.colaboratory.intrinsic+json": {
              "type": "string"
            }
          },
          "metadata": {},
          "execution_count": 30
        }
      ]
    },
    {
      "cell_type": "code",
      "source": [
        "torch.manual_seed(42)\n",
        "torch.cuda.manual_seed(42)\n",
        "\n",
        "# Set the number of epochs:\n",
        "epochs = 100\n",
        "\n",
        "# Put data to target device:\n",
        "X_train, y_train = X_train.to(device), y_train.to(device)\n",
        "X_test, y_test = X_test.to(device), y_test.to(device)\n",
        "\n",
        "# Build training and evaluation loop\n",
        "for epoch in range(epochs):\n",
        "    # training\n",
        "    m1.train()\n",
        "\n",
        "    # 1. Forward pass:\n",
        "    y_logits = m1(X_train).squeeze()\n",
        "    y_pred  = torch.round(torch.sigmoid(y_logits)) # turn logits --> pred probs --> pred labels\n",
        "\n",
        "    # 2. Calculate loss/accuracy\n",
        "    #loss = loss_fn(torch.sigmoid(y_logits), y_train) # nn.BCELoss\n",
        "    loss = loss_fn(y_logits, y_train) # nn.BCEWithLogitsLoss\n",
        "    acc =  accuracy_fn(y_true = y_train, y_pred = y_pred)   \n",
        "\n",
        "    # 3. Optimizer zero grad\n",
        "    optimizer.zero_grad()\n",
        "\n",
        "    # 4. Loss backward (back prop)\n",
        "    loss.backward()\n",
        "\n",
        "    # 5. Optimizer step \n",
        "    optimizer.step()\n",
        "\n",
        "    # Testing\n",
        "    m1.eval()\n",
        "    with torch.inference_mode():\n",
        "        # 1. forward pass\n",
        "        test_logits = m1(X_test).squeeze()\n",
        "        test_pred = torch.round(torch.sigmoid(test_logits))   \n",
        "\n",
        "        # 2. Calculate test loss/acc\n",
        "        test_loss = loss_fn(test_logits, y_test)\n",
        "        test_acc = accuracy_fn(y_true= y_test, y_pred = test_pred)\n",
        "\n",
        "    # print out what's happenin'\n",
        "    if epoch % 10 == 0:\n",
        "      print(f\"Epoch: {epoch}    |   Loss:   {loss:.5f}, Acc:    {acc:.2f}%    | Test loss:    {test_loss:.5f}     , Test acc:   {test_acc:.2f}  \")"
      ],
      "metadata": {
        "colab": {
          "base_uri": "https://localhost:8080/"
        },
        "id": "nBX4kkwDZPP3",
        "outputId": "87d30f06-0ea1-47f5-b269-cf4f21f630ee"
      },
      "execution_count": 31,
      "outputs": [
        {
          "output_type": "stream",
          "name": "stdout",
          "text": [
            "Epoch: 0    |   Loss:   0.70969, Acc:    41.50%    | Test loss:    0.71158     , Test acc:   41.00  \n",
            "Epoch: 10    |   Loss:   0.70008, Acc:    48.62%    | Test loss:    0.70214     , Test acc:   45.00  \n",
            "Epoch: 20    |   Loss:   0.69656, Acc:    48.88%    | Test loss:    0.69857     , Test acc:   46.50  \n",
            "Epoch: 30    |   Loss:   0.69508, Acc:    49.50%    | Test loss:    0.69706     , Test acc:   49.50  \n",
            "Epoch: 40    |   Loss:   0.69433, Acc:    49.88%    | Test loss:    0.69634     , Test acc:   49.50  \n",
            "Epoch: 50    |   Loss:   0.69390, Acc:    49.62%    | Test loss:    0.69596     , Test acc:   48.50  \n",
            "Epoch: 60    |   Loss:   0.69363, Acc:    50.50%    | Test loss:    0.69574     , Test acc:   49.00  \n",
            "Epoch: 70    |   Loss:   0.69344, Acc:    50.62%    | Test loss:    0.69560     , Test acc:   49.00  \n",
            "Epoch: 80    |   Loss:   0.69332, Acc:    50.50%    | Test loss:    0.69551     , Test acc:   49.00  \n",
            "Epoch: 90    |   Loss:   0.69323, Acc:    50.25%    | Test loss:    0.69545     , Test acc:   48.50  \n"
          ]
        }
      ]
    },
    {
      "cell_type": "markdown",
      "source": [
        "## 4. Make predictions and evaluate the model\n",
        "\n",
        "It looks our model did not learn anything.\n",
        "\n",
        "To do so, we're going to import a function called ``plot_`"
      ],
      "metadata": {
        "id": "S2CxTHVldvbj"
      }
    },
    {
      "cell_type": "code",
      "source": [
        "import requests\n",
        "from pathlib import Path\n",
        "\n",
        "# Download helpler function from Learn Pytorch repo\n",
        "if Path(\"helper_functions.py\").is_file():\n",
        "      print(\"helper_functions.py already exists\")\n",
        "else:\n",
        "      print(\"Download helper_functions.py\")\n",
        "      request = requests.get(\"https://raw.githubusercontent.com/mrdbourke/pytorch-deep-learning/main/helper_functions.py\")\n",
        "      with open(\"helper_functions.py\", \"wb\") as f:\n",
        "        f.write(request.content)\n",
        "\n",
        "from helper_functions import plot_predictions, plot_decision_boundary"
      ],
      "metadata": {
        "colab": {
          "base_uri": "https://localhost:8080/"
        },
        "id": "PvGIcoJydvfB",
        "outputId": "edf97eeb-cae7-4fd9-ef97-597ee2d44b5a"
      },
      "execution_count": 32,
      "outputs": [
        {
          "output_type": "stream",
          "name": "stdout",
          "text": [
            "Download helper_functions.py\n"
          ]
        }
      ]
    },
    {
      "cell_type": "code",
      "source": [
        "# Plot decision boundary of the model:\n",
        "\n",
        "plt.figure(figsize =  (12, 6))\n",
        "plt.subplot(1, 2, 1)\n",
        "plt.title(\"Train\")\n",
        "plot_decision_boundary(m1, X_train, y_train)\n",
        "plt.subplot(1, 2, 2)\n",
        "plt.title(\"Test\")\n",
        "plot_decision_boundary(m1, X_test, y_test)"
      ],
      "metadata": {
        "colab": {
          "base_uri": "https://localhost:8080/",
          "height": 390
        },
        "id": "GXF8gtEtgZXQ",
        "outputId": "fead2881-e14a-470a-c945-c919878417d9"
      },
      "execution_count": 33,
      "outputs": [
        {
          "output_type": "display_data",
          "data": {
            "text/plain": [
              "<Figure size 864x432 with 2 Axes>"
            ],
            "image/png": "[encoded data removed]"
          },
          "metadata": {
            "needs_background": "light"
          }
        }
      ]
    },
    {
      "cell_type": "markdown",
      "source": [
        "## 5. Improving a model (from a model perspective)\n",
        "\n",
        "* Add more layers\n",
        "* Add more hidden units \n",
        "* Fit for longer\n",
        "* Change activation function\n",
        "* Change the learning rate\n",
        "* Change the loss function\n",
        "\n",
        "These options are all from a model's perspective.\n",
        "\n",
        "Let's improve: add hiden units, add layers, add more epochs."
      ],
      "metadata": {
        "id": "K5b3OkG1hfch"
      }
    },
    {
      "cell_type": "code",
      "source": [
        "class CircleModelV1(nn.Module):\n",
        "      def __init__(self):\n",
        "        super().__init__()\n",
        "        self.layer_1 = nn.Linear(in_features  =2, out_features  =10)\n",
        "        self.layer_2 = nn.Linear(in_features = 10, out_features = 10)\n",
        "        self.layer_3 = nn.Linear(in_features = 10, out_features =1)\n",
        "\n",
        "      def forward(self, x):\n",
        "        # z = self.layer_1(x)\n",
        "        # z = self.layer_2(z)\n",
        "        # z = self.layer_3(z)\n",
        "        return self.layer_3(self.layer_2(self.layer_1(x)))\n",
        "\n",
        "m1 = CircleModelV1().to(device)\n",
        "m1"
      ],
      "metadata": {
        "colab": {
          "base_uri": "https://localhost:8080/"
        },
        "id": "rbaUM6Igh--D",
        "outputId": "0c97ce6d-eb86-4727-d226-b23f9e4c4cf5"
      },
      "execution_count": 34,
      "outputs": [
        {
          "output_type": "execute_result",
          "data": {
            "text/plain": [
              "CircleModelV1(\n",
              "  (layer_1): Linear(in_features=2, out_features=10, bias=True)\n",
              "  (layer_2): Linear(in_features=10, out_features=10, bias=True)\n",
              "  (layer_3): Linear(in_features=10, out_features=1, bias=True)\n",
              ")"
            ]
          },
          "metadata": {},
          "execution_count": 34
        }
      ]
    },
    {
      "cell_type": "code",
      "source": [
        "m1.state_dict()"
      ],
      "metadata": {
        "colab": {
          "base_uri": "https://localhost:8080/"
        },
        "id": "jYRSPVNjohJW",
        "outputId": "84fedd99-3643-4534-80c7-7d299d5a3346"
      },
      "execution_count": 35,
      "outputs": [
        {
          "output_type": "execute_result",
          "data": {
            "text/plain": [
              "OrderedDict([('layer_1.weight', tensor([[ 0.5406,  0.5869],\n",
              "                      [-0.1657,  0.6496],\n",
              "                      [-0.1549,  0.1427],\n",
              "                      [-0.3443,  0.4153],\n",
              "                      [ 0.6233, -0.5188],\n",
              "                      [ 0.6146,  0.1323],\n",
              "                      [ 0.5224,  0.0958],\n",
              "                      [ 0.3410, -0.0998],\n",
              "                      [ 0.5451,  0.1045],\n",
              "                      [-0.3301,  0.1802]])),\n",
              "             ('layer_1.bias',\n",
              "              tensor([-0.3258, -0.0829, -0.2872,  0.4691, -0.5582, -0.3260, -0.1997, -0.4252,\n",
              "                       0.0667, -0.6984])),\n",
              "             ('layer_2.weight',\n",
              "              tensor([[ 0.2856, -0.2686,  0.2441,  0.0526, -0.1027,  0.1954,  0.0493,  0.2555,\n",
              "                        0.0346, -0.0997],\n",
              "                      [ 0.0850, -0.0858,  0.1331,  0.2823,  0.1828, -0.1382,  0.1825,  0.0566,\n",
              "                        0.1606, -0.1927],\n",
              "                      [-0.3130, -0.1222, -0.2426,  0.2595,  0.0911,  0.1310,  0.1000, -0.0055,\n",
              "                        0.2475, -0.2247],\n",
              "                      [ 0.0199, -0.2158,  0.0975, -0.1089,  0.0969, -0.0659,  0.2623, -0.1874,\n",
              "                       -0.1886, -0.1886],\n",
              "                      [ 0.2844,  0.1054,  0.3043, -0.2610, -0.3137, -0.2474, -0.2127,  0.1281,\n",
              "                        0.1132,  0.2628],\n",
              "                      [-0.1633, -0.2156,  0.1678, -0.1278,  0.1919, -0.0750,  0.1809, -0.2457,\n",
              "                       -0.1596,  0.0964],\n",
              "                      [ 0.0669, -0.0806,  0.1885,  0.2150, -0.2293, -0.1688,  0.2896, -0.1067,\n",
              "                       -0.1121, -0.3060],\n",
              "                      [-0.1811,  0.0790, -0.0417, -0.2295,  0.0074, -0.2160, -0.2683, -0.1741,\n",
              "                       -0.2768, -0.2014],\n",
              "                      [ 0.3161,  0.0597,  0.0974, -0.2949, -0.2077, -0.1053,  0.0494, -0.2783,\n",
              "                       -0.1363, -0.1893],\n",
              "                      [ 0.0009, -0.1177, -0.0219, -0.2143, -0.2171, -0.1845, -0.1082, -0.2496,\n",
              "                        0.2651, -0.0628]])),\n",
              "             ('layer_2.bias',\n",
              "              tensor([ 0.2721,  0.0985, -0.2678,  0.2188, -0.0870, -0.1212, -0.2625, -0.3144,\n",
              "                       0.0905, -0.0691])),\n",
              "             ('layer_3.weight',\n",
              "              tensor([[ 0.1231, -0.2595,  0.2348, -0.2321, -0.0546,  0.0661,  0.1633,  0.2553,\n",
              "                        0.2881, -0.2507]])),\n",
              "             ('layer_3.bias', tensor([0.0796]))])"
            ]
          },
          "metadata": {},
          "execution_count": 35
        }
      ]
    },
    {
      "cell_type": "code",
      "source": [
        "# Create a loss function:\n",
        "loss_fn = nn.BCEWithLogitsLoss()\n",
        "\n",
        "# Create an optimizer:\n",
        "optimizer = torch.optim.SGD(params = m1.parameters(),\n",
        "                                                          lr = 0.1)"
      ],
      "metadata": {
        "id": "ACGbAVSYoIs9"
      },
      "execution_count": 36,
      "outputs": []
    },
    {
      "cell_type": "code",
      "source": [
        "# Write a training and evaluation loop:\n",
        "\n",
        "torch.manual_seed(42)\n",
        "torch.cuda.manual_seed(42)\n",
        "\n",
        "# Train for longer\n",
        "epochs = 1000\n",
        "\n",
        "# Put data on the target device:\n",
        "X_train, y_train  = X_train.to(device), y_train.to(device)\n",
        "X_test, y_test = X_test.to(device), y_test.to(device)\n",
        "                                        \n",
        "\n",
        "for epoch in range(epochs):\n",
        "  ### Training:\n",
        "  m1.train()\n",
        "\n",
        "  # 1. Forward pass\n",
        "  y_logits = m1(X_train).squeeze()\n",
        "  y_pred = torch.round(torch.sigmoid(y_logits)) # logits --> pred probs --> prediction\n",
        "\n",
        "  # 2. calculate loss/accuracy\n",
        "  loss = loss_fn(y_logits, y_train)\n",
        "  acc = accuracy_fn(y_true = y_train, y_pred = y_pred)\n",
        "\n",
        "  # 3. Optimzer zero grad\n",
        "  optimizer.zero_grad()\n",
        "\n",
        "  # 4. Optimzer step (grad descent):\n",
        "  optimizer.step()\n",
        "\n",
        "  #### Testing\n",
        "  m1.eval()\n",
        "  with torch.inference_mode():\n",
        "    # 1. Forward pass\n",
        "    test_logits = m1(X_test).squeeze()\n",
        "    test_pred = torch.round(torch.sigmoid(test_logits))\n",
        "\n",
        "    # 2. Calculate loss\n",
        "    test_loss = loss_fn(test_logits, y_test)\n",
        "    test_acc =  accuracy_fn(y_true = y_test, y_pred = test_pred)\n",
        "\n",
        "    # print out what's happeníng''\n",
        "    if epoch % 100 ==0:\n",
        "      print(f\"Epoch: {epoch}    |   Loss:   {loss:.5f}, Acc:    {acc:.2f}%    | Test loss:    {test_loss:.5f}     , Test acc:   {test_acc:.2f}  \")"
      ],
      "metadata": {
        "colab": {
          "base_uri": "https://localhost:8080/"
        },
        "id": "-uvCJXVdoUri",
        "outputId": "3df212a5-8fd7-487d-c395-ef53cbdffb47"
      },
      "execution_count": 37,
      "outputs": [
        {
          "output_type": "stream",
          "name": "stdout",
          "text": [
            "Epoch: 0    |   Loss:   0.69396, Acc:    50.88%    | Test loss:    0.69261     , Test acc:   51.00  \n",
            "Epoch: 100    |   Loss:   0.69396, Acc:    50.88%    | Test loss:    0.69261     , Test acc:   51.00  \n",
            "Epoch: 200    |   Loss:   0.69396, Acc:    50.88%    | Test loss:    0.69261     , Test acc:   51.00  \n",
            "Epoch: 300    |   Loss:   0.69396, Acc:    50.88%    | Test loss:    0.69261     , Test acc:   51.00  \n",
            "Epoch: 400    |   Loss:   0.69396, Acc:    50.88%    | Test loss:    0.69261     , Test acc:   51.00  \n",
            "Epoch: 500    |   Loss:   0.69396, Acc:    50.88%    | Test loss:    0.69261     , Test acc:   51.00  \n",
            "Epoch: 600    |   Loss:   0.69396, Acc:    50.88%    | Test loss:    0.69261     , Test acc:   51.00  \n",
            "Epoch: 700    |   Loss:   0.69396, Acc:    50.88%    | Test loss:    0.69261     , Test acc:   51.00  \n",
            "Epoch: 800    |   Loss:   0.69396, Acc:    50.88%    | Test loss:    0.69261     , Test acc:   51.00  \n",
            "Epoch: 900    |   Loss:   0.69396, Acc:    50.88%    | Test loss:    0.69261     , Test acc:   51.00  \n"
          ]
        }
      ]
    },
    {
      "cell_type": "code",
      "source": [
        "# Plot the decision boundary:\n",
        "plt.figure(figsize =  (12, 6))\n",
        "plt.subplot(1, 2, 1)\n",
        "plt.title(\"Train\")\n",
        "plot_decision_boundary(m1, X_train, y_train)\n",
        "plt.subplot(1, 2, 2)\n",
        "plt.title(\"Test\")\n",
        "plot_decision_boundary(m1, X_test, y_test)"
      ],
      "metadata": {
        "colab": {
          "base_uri": "https://localhost:8080/",
          "height": 390
        },
        "id": "F39Kne4IqIoA",
        "outputId": "feecd105-9214-41f2-e9fa-53fa515aa1e0"
      },
      "execution_count": 38,
      "outputs": [
        {
          "output_type": "display_data",
          "data": {
            "text/plain": [
              "<Figure size 864x432 with 2 Axes>"
            ],
            "image/png": "[encoded data removed]"
          },
          "metadata": {
            "needs_background": "light"
          }
        }
      ]
    },
    {
      "cell_type": "markdown",
      "source": [
        "### 5.1 Preparing data to see if our model can fit a straight line:\n",
        "\n",
        "Test out a smaller problem."
      ],
      "metadata": {
        "id": "Cl5M3nNuq3Mc"
      }
    },
    {
      "cell_type": "code",
      "source": [
        "# Create some data:\n",
        "weight = 0.7\n",
        "bias = 0.3\n",
        "start = 0\n",
        "end  = 1\n",
        "step = 0.01\n",
        "\n",
        "# Data\n",
        "X_reg = torch.arange(start, end, step).unsqueeze(dim = 1)\n",
        "y_reg = weight*X_reg + bias\n",
        "\n",
        "# Check the data:\n",
        "print(len(X_reg))\n",
        "X_reg[:5], y[:5]"
      ],
      "metadata": {
        "colab": {
          "base_uri": "https://localhost:8080/"
        },
        "id": "FVWh9Ypjq9LR",
        "outputId": "30639691-20fd-4c08-95aa-56549f6e858a"
      },
      "execution_count": 39,
      "outputs": [
        {
          "output_type": "stream",
          "name": "stdout",
          "text": [
            "100\n"
          ]
        },
        {
          "output_type": "execute_result",
          "data": {
            "text/plain": [
              "(tensor([[0.0000],\n",
              "         [0.0100],\n",
              "         [0.0200],\n",
              "         [0.0300],\n",
              "         [0.0400]]), tensor([1., 1., 1., 1., 0.]))"
            ]
          },
          "metadata": {},
          "execution_count": 39
        }
      ]
    },
    {
      "cell_type": "code",
      "source": [
        "# train & test split\n",
        "tsp = int(0.8*len(X_reg))\n",
        "X_train_reg, y_train_reg  = X_reg[:tsp], y_reg[:tsp]\n",
        "X_test_reg , y_test_reg = X_reg[tsp:], y_reg[tsp:]"
      ],
      "metadata": {
        "id": "42vE47AYrqN5"
      },
      "execution_count": 40,
      "outputs": []
    },
    {
      "cell_type": "code",
      "source": [
        "plot_predictions(train_data = X_train_reg,\n",
        "                                 train_labels = y_train_reg,\n",
        "                                test_data = X_test_reg,\n",
        "                                test_labels  = y_test_reg)"
      ],
      "metadata": {
        "colab": {
          "base_uri": "https://localhost:8080/",
          "height": 428
        },
        "id": "-CRIntsXrlGo",
        "outputId": "7ca1164c-364b-4388-b351-2a8273692bcc"
      },
      "execution_count": 41,
      "outputs": [
        {
          "output_type": "display_data",
          "data": {
            "text/plain": [
              "<Figure size 720x504 with 1 Axes>"
            ],
            "image/png": "[encoded data removed]"
          },
          "metadata": {
            "needs_background": "light"
          }
        }
      ]
    },
    {
      "cell_type": "markdown",
      "source": [
        "### 5.2 Adjust `m1` to fit a straight line"
      ],
      "metadata": {
        "id": "VrFoT4XMsff8"
      }
    },
    {
      "cell_type": "code",
      "source": [
        "# Same architecture as m1, but using nn.Sequential:\n",
        "\n",
        "m2 = nn.Sequential(\n",
        "    nn.Linear(in_features = 1, out_features = 10),\n",
        "    nn.Linear(in_features = 10, out_features = 10),\n",
        "    nn.Linear(in_features = 10, out_features = 1)\n",
        ").to(device)\n",
        "\n",
        "m2"
      ],
      "metadata": {
        "colab": {
          "base_uri": "https://localhost:8080/"
        },
        "id": "1v0GvYUEsvWJ",
        "outputId": "a1b2f85a-e617-4afd-c82d-91c0a2e08041"
      },
      "execution_count": 42,
      "outputs": [
        {
          "output_type": "execute_result",
          "data": {
            "text/plain": [
              "Sequential(\n",
              "  (0): Linear(in_features=1, out_features=10, bias=True)\n",
              "  (1): Linear(in_features=10, out_features=10, bias=True)\n",
              "  (2): Linear(in_features=10, out_features=1, bias=True)\n",
              ")"
            ]
          },
          "metadata": {},
          "execution_count": 42
        }
      ]
    },
    {
      "cell_type": "code",
      "source": [
        "# Loss and optimizer:\n",
        "\n",
        "loss_fn = nn.L1Loss()\n",
        "optimizer = torch.optim.SGD(m2.parameters(), lr= 0.1)"
      ],
      "metadata": {
        "id": "g6koRE6GQnTn"
      },
      "execution_count": 43,
      "outputs": []
    },
    {
      "cell_type": "code",
      "source": [
        "# Train the model\n",
        "torch.manual_seed(42)\n",
        "torch.cuda.manual_seed(42)\n",
        "\n",
        "# Set the number of epochs\n",
        "epochs = 1000\n",
        "\n",
        "# put the data on the target device:\n",
        "X_train_reg, y_train_reg = X_train_reg.to(device), y_train_reg.to(device)\n",
        "X_test_reg, y_test_reg = X_test_reg.to(device), y_test_reg.to(device)\n",
        "\n",
        "# Training\n",
        "for epoch in range(epochs):\n",
        "  y_pred = m2(X_train_reg)\n",
        "  loss = loss_fn(y_pred, y_train_reg)\n",
        "  optimizer.zero_grad()\n",
        "  loss.backward()\n",
        "  optimizer.step()\n",
        "\n",
        "  # Testing:\n",
        "  m2.eval()\n",
        "  with torch.inference_mode():\n",
        "    test_pred = m2(X_test_reg)\n",
        "    test_loss  = loss_fn(test_pred, y_test_reg)\n",
        "\n",
        "# Print our what's happenin'\n",
        "  if epoch % 100 == 0:\n",
        "    print(f\"Epoch: {epoch}    |   Loss:   {loss:.5f}    | Test loss:    {test_loss:.5f}  \")\n",
        "                                                    "
      ],
      "metadata": {
        "colab": {
          "base_uri": "https://localhost:8080/"
        },
        "id": "QaCsaUZNQu7P",
        "outputId": "4e48a0dd-24c3-4ccc-952e-4718ddfa9c12"
      },
      "execution_count": 44,
      "outputs": [
        {
          "output_type": "stream",
          "name": "stdout",
          "text": [
            "Epoch: 0    |   Loss:   0.75986    | Test loss:    0.54143  \n",
            "Epoch: 100    |   Loss:   0.09309    | Test loss:    0.02901  \n",
            "Epoch: 200    |   Loss:   0.07376    | Test loss:    0.02850  \n",
            "Epoch: 300    |   Loss:   0.06745    | Test loss:    0.00615  \n",
            "Epoch: 400    |   Loss:   0.06107    | Test loss:    0.02004  \n",
            "Epoch: 500    |   Loss:   0.05698    | Test loss:    0.01061  \n",
            "Epoch: 600    |   Loss:   0.04857    | Test loss:    0.01326  \n",
            "Epoch: 700    |   Loss:   0.06109    | Test loss:    0.02127  \n",
            "Epoch: 800    |   Loss:   0.05600    | Test loss:    0.01425  \n",
            "Epoch: 900    |   Loss:   0.05571    | Test loss:    0.00603  \n"
          ]
        }
      ]
    },
    {
      "cell_type": "code",
      "source": [
        "# Turn on evaluation mode\n",
        "m2.eval()\n",
        "\n",
        "# Make predictions (inference):\n",
        "with torch.inference_mode():\n",
        "    y_preds = m2(X_test_reg)\n",
        "\n",
        "# Plot data & predictions\n",
        "plot_predictions(train_data=X_train_reg.cpu(), \n",
        "                 train_labels=y_train_reg.cpu(),\n",
        "                 test_data=X_test_reg.cpu(),\n",
        "                 test_labels=y_test_reg.cpu(),\n",
        "                 predictions=y_preds.cpu());"
      ],
      "metadata": {
        "colab": {
          "base_uri": "https://localhost:8080/",
          "height": 428
        },
        "id": "1eW5QRgDR1PO",
        "outputId": "e4d5a41d-dcfc-4082-cd0e-d02806c6cdcb"
      },
      "execution_count": 45,
      "outputs": [
        {
          "output_type": "display_data",
          "data": {
            "text/plain": [
              "<Figure size 720x504 with 1 Axes>"
            ],
            "image/png": "[encoded data removed]"
          },
          "metadata": {
            "needs_background": "light"
          }
        }
      ]
    },
    {
      "cell_type": "markdown",
      "source": [
        "## 6. The missing piece: non-linearity\n",
        "\n",
        "'What patterns could you draw with an infinite amount of straight & non-straight lines?'"
      ],
      "metadata": {
        "id": "huXI7GJqSwYN"
      }
    },
    {
      "cell_type": "markdown",
      "source": [
        "### 6.1 Recreating non-linear data (red & blue circles)"
      ],
      "metadata": {
        "id": "aIb1-Rs9TaYB"
      }
    },
    {
      "cell_type": "code",
      "source": [
        "# Make and plot data\n",
        "import matplotlib.pyplot as plt\n",
        "from sklearn.datasets import make_circles\n",
        "\n",
        "n_samples = 1000\n",
        "\n",
        "X, y = make_circles(n_samples, noise = 0.03, random_state = 42)\n",
        "\n",
        "plt.scatter(X[:, 0], X[:, 1], c = y)"
      ],
      "metadata": {
        "colab": {
          "base_uri": "https://localhost:8080/",
          "height": 282
        },
        "id": "j2KRboXMTq-j",
        "outputId": "43003f69-9031-4e7f-c06a-0f179eb6277c"
      },
      "execution_count": 46,
      "outputs": [
        {
          "output_type": "execute_result",
          "data": {
            "text/plain": [
              "<matplotlib.collections.PathCollection at 0x7f4da6823410>"
            ]
          },
          "metadata": {},
          "execution_count": 46
        },
        {
          "output_type": "display_data",
          "data": {
            "text/plain": [
              "<Figure size 432x288 with 1 Axes>"
            ],
            "image/png": "[encoded data removed]"
          },
          "metadata": {
            "needs_background": "light"
          }
        }
      ]
    },
    {
      "cell_type": "code",
      "source": [
        "# Convert data to tensors and then to train and test splits\n",
        "import torch\n",
        "from sklearn.model_selection import train_test_split\n",
        "\n",
        "# Turn data into tensors:\n",
        "X = torch.from_numpy(X).type(torch.float)\n",
        "y = torch.from_numpy(y).type(torch.float)\n",
        "\n",
        "# Split into train and test sets:\n",
        "X_train, X_test, y_train, y_test =  train_test_split(X, y, test_size = 0.2, random_state = 42)"
      ],
      "metadata": {
        "id": "lfzc8g3hT6ug"
      },
      "execution_count": 47,
      "outputs": []
    },
    {
      "cell_type": "code",
      "source": [
        "X_train[:5], y_train[:5]"
      ],
      "metadata": {
        "colab": {
          "base_uri": "https://localhost:8080/"
        },
        "id": "XF_OCcn5UYDu",
        "outputId": "1dcd99e2-f88e-4367-8e82-9aad86b38911"
      },
      "execution_count": 48,
      "outputs": [
        {
          "output_type": "execute_result",
          "data": {
            "text/plain": [
              "(tensor([[ 0.6579, -0.4651],\n",
              "         [ 0.6319, -0.7347],\n",
              "         [-1.0086, -0.1240],\n",
              "         [-0.9666, -0.2256],\n",
              "         [-0.1666,  0.7994]]), tensor([1., 0., 0., 0., 1.]))"
            ]
          },
          "metadata": {},
          "execution_count": 48
        }
      ]
    },
    {
      "cell_type": "markdown",
      "source": [
        "### 6.2 Building model with non-linearity\n",
        "\n",
        "* Linear: straight, non-linear: non-straight line.\n",
        "\n",
        "Artificial nn are a large combination of linear (straight) and non-straight functions "
      ],
      "metadata": {
        "id": "uIRrV0dyUcf5"
      }
    },
    {
      "cell_type": "code",
      "source": [
        "# Build a model with non-linear activation functions:\n",
        "\n",
        "from torch import nn\n",
        "class CircleModelV2(nn.Module):\n",
        "    def __init__(self):\n",
        "      super().__init__()\n",
        "      self.layer_1 = nn.Linear(in_features = 2, out_features = 10)\n",
        "      self.layer_2 = nn.Linear(in_features = 10, out_features = 10)\n",
        "      self.layer_3 = nn.Linear(in_features = 10, out_features = 1)\n",
        "      self.relu = nn.ReLU()     # ReLU is a non-linear activation function\n",
        "      \n",
        "    def forward(self, x):\n",
        "      # Where should we put our non-linear activation functions:\n",
        "      return self.layer_3(self.relu(self.layer_2(self.relu(self.layer_3(x)))))\n",
        "\n",
        "m3 = CircleModelV2().to(device)\n",
        "m3"
      ],
      "metadata": {
        "colab": {
          "base_uri": "https://localhost:8080/"
        },
        "id": "ZepxNMoBUyQR",
        "outputId": "41773bde-c93e-47da-8b59-33d2030e3e65"
      },
      "execution_count": 49,
      "outputs": [
        {
          "output_type": "execute_result",
          "data": {
            "text/plain": [
              "CircleModelV2(\n",
              "  (layer_1): Linear(in_features=2, out_features=10, bias=True)\n",
              "  (layer_2): Linear(in_features=10, out_features=10, bias=True)\n",
              "  (layer_3): Linear(in_features=10, out_features=1, bias=True)\n",
              "  (relu): ReLU()\n",
              ")"
            ]
          },
          "metadata": {},
          "execution_count": 49
        }
      ]
    },
    {
      "cell_type": "code",
      "source": [
        "m3"
      ],
      "metadata": {
        "colab": {
          "base_uri": "https://localhost:8080/"
        },
        "id": "cFIcw7iHW1dj",
        "outputId": "6247e570-dbef-4afc-c5d0-f9c60c49caca"
      },
      "execution_count": 50,
      "outputs": [
        {
          "output_type": "execute_result",
          "data": {
            "text/plain": [
              "CircleModelV2(\n",
              "  (layer_1): Linear(in_features=2, out_features=10, bias=True)\n",
              "  (layer_2): Linear(in_features=10, out_features=10, bias=True)\n",
              "  (layer_3): Linear(in_features=10, out_features=1, bias=True)\n",
              "  (relu): ReLU()\n",
              ")"
            ]
          },
          "metadata": {},
          "execution_count": 50
        }
      ]
    },
    {
      "cell_type": "code",
      "source": [
        "# Setup loss and opotimizer\n",
        "loss_fn = nn.BCEWithLogitsLoss()\n",
        "optimizer = torch.optim.SGD(m3.parameters(), lr = 0.1)\n"
      ],
      "metadata": {
        "id": "scjWdextX1tE"
      },
      "execution_count": 51,
      "outputs": []
    },
    {
      "cell_type": "markdown",
      "source": [
        "### 6.3 Train a model with non-linearity"
      ],
      "metadata": {
        "id": "akrYrEVzYANm"
      }
    },
    {
      "cell_type": "code",
      "source": [
        "# Random seeds \n",
        "torch.manual_seed(42)\n",
        "torch.cuda.manual_seed(42)\n",
        "\n",
        "# Put all data on target device\n",
        "X_train, y_train = X_train.to(device), y_train.to(device)\n",
        "X_test, y_test = X_test.to(device), y_test.to(device)\n",
        "\n",
        "# Loop through data\n",
        "epochs = 1000\n",
        "\n",
        "for epoch in range(epochs):\n",
        "  ### Training\n",
        "  m3.train()\n",
        "\n",
        "  # 1. Forward pass\n",
        "  y_logits = m3(X_train).squeeze()\n",
        "  y_pred = torch.round(torch.sigmoid(y_logits)) # logits -> prediction probabilities -> prediction labels\n",
        "\n",
        "  # 2. Calculate the loss\n",
        "  loss = loss_fn(y_logits, y_train) # BCEWithLogitsLoss (takes in logits as first input)\n",
        "  acc = accuracy_fn(y_true=y_train,\n",
        "                    y_pred=y_pred)\n",
        "  \n",
        "  # 3. Optimizer zero grad\n",
        "  optimizer.zero_grad()\n",
        "\n",
        "  # 4. Loss backward\n",
        "  loss.backward()\n",
        "\n",
        "  # 5. Step the optimizer\n",
        "  optimizer.step()\n",
        "\n",
        "  ### Testing\n",
        "  m3.eval()\n",
        "  with torch.inference_mode():\n",
        "    test_logits = m3(X_test).squeeze()\n",
        "    test_pred = torch.round(torch.sigmoid(test_logits))\n",
        "    \n",
        "    test_loss = loss_fn(test_logits, y_test)\n",
        "    test_acc = accuracy_fn(y_true=y_test, \n",
        "                           y_pred=test_pred)\n",
        "  \n",
        "  # Print out what's this happenin'\n",
        "  if epoch % 100 == 0:\n",
        "    print(f\"Epoch: {epoch} | Loss: {loss:.4f}, Acc: {acc:.2f}% | Test Loss: {test_loss:.4f}, Test Acc: {test_acc:.2f}%\")"
      ],
      "metadata": {
        "colab": {
          "base_uri": "https://localhost:8080/",
          "height": 382
        },
        "id": "ncawim-8YEqC",
        "outputId": "14517120-627a-44f3-a72b-166ca6044153"
      },
      "execution_count": 52,
      "outputs": [
        {
          "output_type": "error",
          "ename": "RuntimeError",
          "evalue": "ignored",
          "traceback": [
            "\u001b[0;31m---------------------------------------------------------------------------\u001b[0m",
            "\u001b[0;31mRuntimeError\u001b[0m                              Traceback (most recent call last)",
            "\u001b[0;32m<ipython-input-52-1eedf4272395>\u001b[0m in \u001b[0;36m<module>\u001b[0;34m\u001b[0m\n\u001b[1;32m     15\u001b[0m \u001b[0;34m\u001b[0m\u001b[0m\n\u001b[1;32m     16\u001b[0m   \u001b[0;31m# 1. Forward pass\u001b[0m\u001b[0;34m\u001b[0m\u001b[0;34m\u001b[0m\u001b[0;34m\u001b[0m\u001b[0m\n\u001b[0;32m---> 17\u001b[0;31m   \u001b[0my_logits\u001b[0m \u001b[0;34m=\u001b[0m \u001b[0mm3\u001b[0m\u001b[0;34m(\u001b[0m\u001b[0mX_train\u001b[0m\u001b[0;34m)\u001b[0m\u001b[0;34m.\u001b[0m\u001b[0msqueeze\u001b[0m\u001b[0;34m(\u001b[0m\u001b[0;34m)\u001b[0m\u001b[0;34m\u001b[0m\u001b[0;34m\u001b[0m\u001b[0m\n\u001b[0m\u001b[1;32m     18\u001b[0m   \u001b[0my_pred\u001b[0m \u001b[0;34m=\u001b[0m \u001b[0mtorch\u001b[0m\u001b[0;34m.\u001b[0m\u001b[0mround\u001b[0m\u001b[0;34m(\u001b[0m\u001b[0mtorch\u001b[0m\u001b[0;34m.\u001b[0m\u001b[0msigmoid\u001b[0m\u001b[0;34m(\u001b[0m\u001b[0my_logits\u001b[0m\u001b[0;34m)\u001b[0m\u001b[0;34m)\u001b[0m \u001b[0;31m# logits -> prediction probabilities -> prediction labels\u001b[0m\u001b[0;34m\u001b[0m\u001b[0;34m\u001b[0m\u001b[0m\n\u001b[1;32m     19\u001b[0m \u001b[0;34m\u001b[0m\u001b[0m\n",
            "\u001b[0;32m/usr/local/lib/python3.7/dist-packages/torch/nn/modules/module.py\u001b[0m in \u001b[0;36m_call_impl\u001b[0;34m(self, *input, **kwargs)\u001b[0m\n\u001b[1;32m   1128\u001b[0m         if not (self._backward_hooks or self._forward_hooks or self._forward_pre_hooks or _global_backward_hooks\n\u001b[1;32m   1129\u001b[0m                 or _global_forward_hooks or _global_forward_pre_hooks):\n\u001b[0;32m-> 1130\u001b[0;31m             \u001b[0;32mreturn\u001b[0m \u001b[0mforward_call\u001b[0m\u001b[0;34m(\u001b[0m\u001b[0;34m*\u001b[0m\u001b[0minput\u001b[0m\u001b[0;34m,\u001b[0m \u001b[0;34m**\u001b[0m\u001b[0mkwargs\u001b[0m\u001b[0;34m)\u001b[0m\u001b[0;34m\u001b[0m\u001b[0;34m\u001b[0m\u001b[0m\n\u001b[0m\u001b[1;32m   1131\u001b[0m         \u001b[0;31m# Do not call functions when jit is used\u001b[0m\u001b[0;34m\u001b[0m\u001b[0;34m\u001b[0m\u001b[0;34m\u001b[0m\u001b[0m\n\u001b[1;32m   1132\u001b[0m         \u001b[0mfull_backward_hooks\u001b[0m\u001b[0;34m,\u001b[0m \u001b[0mnon_full_backward_hooks\u001b[0m \u001b[0;34m=\u001b[0m \u001b[0;34m[\u001b[0m\u001b[0;34m]\u001b[0m\u001b[0;34m,\u001b[0m \u001b[0;34m[\u001b[0m\u001b[0;34m]\u001b[0m\u001b[0;34m\u001b[0m\u001b[0;34m\u001b[0m\u001b[0m\n",
            "\u001b[0;32m<ipython-input-49-6f83aeb691cf>\u001b[0m in \u001b[0;36mforward\u001b[0;34m(self, x)\u001b[0m\n\u001b[1;32m     12\u001b[0m     \u001b[0;32mdef\u001b[0m \u001b[0mforward\u001b[0m\u001b[0;34m(\u001b[0m\u001b[0mself\u001b[0m\u001b[0;34m,\u001b[0m \u001b[0mx\u001b[0m\u001b[0;34m)\u001b[0m\u001b[0;34m:\u001b[0m\u001b[0;34m\u001b[0m\u001b[0;34m\u001b[0m\u001b[0m\n\u001b[1;32m     13\u001b[0m       \u001b[0;31m# Where should we put our non-linear activation functions:\u001b[0m\u001b[0;34m\u001b[0m\u001b[0;34m\u001b[0m\u001b[0;34m\u001b[0m\u001b[0m\n\u001b[0;32m---> 14\u001b[0;31m       \u001b[0;32mreturn\u001b[0m \u001b[0mself\u001b[0m\u001b[0;34m.\u001b[0m\u001b[0mlayer_3\u001b[0m\u001b[0;34m(\u001b[0m\u001b[0mself\u001b[0m\u001b[0;34m.\u001b[0m\u001b[0mrelu\u001b[0m\u001b[0;34m(\u001b[0m\u001b[0mself\u001b[0m\u001b[0;34m.\u001b[0m\u001b[0mlayer_2\u001b[0m\u001b[0;34m(\u001b[0m\u001b[0mself\u001b[0m\u001b[0;34m.\u001b[0m\u001b[0mrelu\u001b[0m\u001b[0;34m(\u001b[0m\u001b[0mself\u001b[0m\u001b[0;34m.\u001b[0m\u001b[0mlayer_3\u001b[0m\u001b[0;34m(\u001b[0m\u001b[0mx\u001b[0m\u001b[0;34m)\u001b[0m\u001b[0;34m)\u001b[0m\u001b[0;34m)\u001b[0m\u001b[0;34m)\u001b[0m\u001b[0;34m)\u001b[0m\u001b[0;34m\u001b[0m\u001b[0;34m\u001b[0m\u001b[0m\n\u001b[0m\u001b[1;32m     15\u001b[0m \u001b[0;34m\u001b[0m\u001b[0m\n\u001b[1;32m     16\u001b[0m \u001b[0mm3\u001b[0m \u001b[0;34m=\u001b[0m \u001b[0mCircleModelV2\u001b[0m\u001b[0;34m(\u001b[0m\u001b[0;34m)\u001b[0m\u001b[0;34m.\u001b[0m\u001b[0mto\u001b[0m\u001b[0;34m(\u001b[0m\u001b[0mdevice\u001b[0m\u001b[0;34m)\u001b[0m\u001b[0;34m\u001b[0m\u001b[0;34m\u001b[0m\u001b[0m\n",
            "\u001b[0;32m/usr/local/lib/python3.7/dist-packages/torch/nn/modules/module.py\u001b[0m in \u001b[0;36m_call_impl\u001b[0;34m(self, *input, **kwargs)\u001b[0m\n\u001b[1;32m   1128\u001b[0m         if not (self._backward_hooks or self._forward_hooks or self._forward_pre_hooks or _global_backward_hooks\n\u001b[1;32m   1129\u001b[0m                 or _global_forward_hooks or _global_forward_pre_hooks):\n\u001b[0;32m-> 1130\u001b[0;31m             \u001b[0;32mreturn\u001b[0m \u001b[0mforward_call\u001b[0m\u001b[0;34m(\u001b[0m\u001b[0;34m*\u001b[0m\u001b[0minput\u001b[0m\u001b[0;34m,\u001b[0m \u001b[0;34m**\u001b[0m\u001b[0mkwargs\u001b[0m\u001b[0;34m)\u001b[0m\u001b[0;34m\u001b[0m\u001b[0;34m\u001b[0m\u001b[0m\n\u001b[0m\u001b[1;32m   1131\u001b[0m         \u001b[0;31m# Do not call functions when jit is used\u001b[0m\u001b[0;34m\u001b[0m\u001b[0;34m\u001b[0m\u001b[0;34m\u001b[0m\u001b[0m\n\u001b[1;32m   1132\u001b[0m         \u001b[0mfull_backward_hooks\u001b[0m\u001b[0;34m,\u001b[0m \u001b[0mnon_full_backward_hooks\u001b[0m \u001b[0;34m=\u001b[0m \u001b[0;34m[\u001b[0m\u001b[0;34m]\u001b[0m\u001b[0;34m,\u001b[0m \u001b[0;34m[\u001b[0m\u001b[0;34m]\u001b[0m\u001b[0;34m\u001b[0m\u001b[0;34m\u001b[0m\u001b[0m\n",
            "\u001b[0;32m/usr/local/lib/python3.7/dist-packages/torch/nn/modules/linear.py\u001b[0m in \u001b[0;36mforward\u001b[0;34m(self, input)\u001b[0m\n\u001b[1;32m    112\u001b[0m \u001b[0;34m\u001b[0m\u001b[0m\n\u001b[1;32m    113\u001b[0m     \u001b[0;32mdef\u001b[0m \u001b[0mforward\u001b[0m\u001b[0;34m(\u001b[0m\u001b[0mself\u001b[0m\u001b[0;34m,\u001b[0m \u001b[0minput\u001b[0m\u001b[0;34m:\u001b[0m \u001b[0mTensor\u001b[0m\u001b[0;34m)\u001b[0m \u001b[0;34m->\u001b[0m \u001b[0mTensor\u001b[0m\u001b[0;34m:\u001b[0m\u001b[0;34m\u001b[0m\u001b[0;34m\u001b[0m\u001b[0m\n\u001b[0;32m--> 114\u001b[0;31m         \u001b[0;32mreturn\u001b[0m \u001b[0mF\u001b[0m\u001b[0;34m.\u001b[0m\u001b[0mlinear\u001b[0m\u001b[0;34m(\u001b[0m\u001b[0minput\u001b[0m\u001b[0;34m,\u001b[0m \u001b[0mself\u001b[0m\u001b[0;34m.\u001b[0m\u001b[0mweight\u001b[0m\u001b[0;34m,\u001b[0m \u001b[0mself\u001b[0m\u001b[0;34m.\u001b[0m\u001b[0mbias\u001b[0m\u001b[0;34m)\u001b[0m\u001b[0;34m\u001b[0m\u001b[0;34m\u001b[0m\u001b[0m\n\u001b[0m\u001b[1;32m    115\u001b[0m \u001b[0;34m\u001b[0m\u001b[0m\n\u001b[1;32m    116\u001b[0m     \u001b[0;32mdef\u001b[0m \u001b[0mextra_repr\u001b[0m\u001b[0;34m(\u001b[0m\u001b[0mself\u001b[0m\u001b[0;34m)\u001b[0m \u001b[0;34m->\u001b[0m \u001b[0mstr\u001b[0m\u001b[0;34m:\u001b[0m\u001b[0;34m\u001b[0m\u001b[0;34m\u001b[0m\u001b[0m\n",
            "\u001b[0;31mRuntimeError\u001b[0m: mat1 and mat2 shapes cannot be multiplied (800x2 and 10x1)"
          ]
        }
      ]
    },
    {
      "cell_type": "markdown",
      "source": [
        "### 6.4 Evaluating a model trained with non-linear activation functions\n"
      ],
      "metadata": {
        "id": "RPbunUxxkT_9"
      }
    },
    {
      "cell_type": "code",
      "source": [
        "# Makes predictions\n",
        "m3.eval()\n",
        "with torch.inference_mode():\n",
        "  y_preds = torch.round(torch.sigmoid(m3(X_test))).squeeze()\n",
        "y_preds[:10], y_test[:10]"
      ],
      "metadata": {
        "id": "YnD2UNNukblX"
      },
      "execution_count": null,
      "outputs": []
    },
    {
      "cell_type": "code",
      "source": [
        "# Plot decision boundaries\n",
        "plt.figure(figsize=(12, 6))\n",
        "plt.subplot(1, 2, 1)\n",
        "plt.title(\"Train\")\n",
        "plot_decision_boundary(m1, X_train, y_train) # model_1 = no non-linearity\n",
        "plt.subplot(1, 2, 2)\n",
        "plt.title(\"Test\")\n",
        "plot_decision_boundary(m3, X_test, y_test) # model_3 = has non-linearit"
      ],
      "metadata": {
        "id": "iLIs1PxmkcFU"
      },
      "execution_count": null,
      "outputs": []
    },
    {
      "cell_type": "markdown",
      "source": [
        "## 7. Replicate non-linear activation functions\n"
      ],
      "metadata": {
        "id": "pMrHnaMgoYC6"
      }
    },
    {
      "cell_type": "code",
      "source": [
        "# Create a tensor\n",
        "\n",
        "A = torch.arange(-10., 10, 1, dtype = torch.float32)\n",
        "A.dtype"
      ],
      "metadata": {
        "id": "qmCzYDKpo5JL"
      },
      "execution_count": null,
      "outputs": []
    },
    {
      "cell_type": "code",
      "source": [
        "# Visualize the tensor\n",
        "plt.plot(A)"
      ],
      "metadata": {
        "id": "2o4nU8aCpBe3"
      },
      "execution_count": null,
      "outputs": []
    },
    {
      "cell_type": "code",
      "source": [
        "plt.plot(torch.relu(A))"
      ],
      "metadata": {
        "id": "7GHefcc0pRb-"
      },
      "execution_count": null,
      "outputs": []
    },
    {
      "cell_type": "code",
      "source": [
        "def relu(x: torch.Tensor) -> torch.Tensor:\n",
        "   return torch.maximum(torch.tensor(0), x)"
      ],
      "metadata": {
        "id": "kX3ITluapBim"
      },
      "execution_count": null,
      "outputs": []
    },
    {
      "cell_type": "code",
      "source": [
        "relu(A)"
      ],
      "metadata": {
        "id": "vcfvCXAzpdTb"
      },
      "execution_count": null,
      "outputs": []
    },
    {
      "cell_type": "code",
      "source": [
        "# Plot ReLU activation function\n",
        "plt.plot(relu(A))"
      ],
      "metadata": {
        "id": "vsPyOGpHpBmc"
      },
      "execution_count": null,
      "outputs": []
    },
    {
      "cell_type": "code",
      "source": [
        "def sigmoid(x: torch.Tensor) -> torch.Tensor:\n",
        "  return 1/ (1 + torch.exp(-x))"
      ],
      "metadata": {
        "id": "14knWEoOpBrq"
      },
      "execution_count": null,
      "outputs": []
    },
    {
      "cell_type": "code",
      "source": [
        "plt.plot(torch.sigmoid(A)) "
      ],
      "metadata": {
        "id": "vKkGQXpMp41F"
      },
      "execution_count": null,
      "outputs": []
    },
    {
      "cell_type": "markdown",
      "source": [
        "## Putting it all together with a multi-class classification problem\n",
        "\n",
        "* Binary problem\n"
      ],
      "metadata": {
        "id": "5ImtxaIOrax9"
      }
    },
    {
      "cell_type": "code",
      "source": [
        "# Import dependencies \n",
        "import torch\n",
        "import matplotlib.pyplot as plt\n",
        "from sklearn.datasets import make_blobs # https://scikit-learn.org/stable/modules/generated/sklearn.datasets.make_blobs.html#sklearn.datasets.make_blobs \n",
        "from sklearn.model_selection import train_test_split\n",
        "\n",
        "# Set the hyperparameters for data creation\n",
        "NUM_CLASSES = 4\n",
        "NUM_FEATURES = 2\n",
        "RANDOM_SEED = 42\n",
        "\n",
        "# 1. Create multi-class data\n",
        "X_blob, y_blob = make_blobs(n_samples=1000,\n",
        "                            n_features=NUM_FEATURES,\n",
        "                            centers=NUM_CLASSES,\n",
        "                            cluster_std=1.5, # give the clusters a little shake up\n",
        "                            random_state=RANDOM_SEED)\n",
        "\n",
        "# 2. Turn data into tensors\n",
        "X_blob = torch.from_numpy(X_blob).type(torch.float)\n",
        "y_blob = torch.from_numpy(y_blob).type(torch.LongTensor)\n",
        "\n",
        "# 3. Split into train and test\n",
        "X_blob_train, X_blob_test, y_blob_train, y_blob_test = train_test_split(X_blob,\n",
        "                                                                        y_blob,\n",
        "                                                                        test_size=0.2, \n",
        "                                                                        random_state=RANDOM_SEED)\n",
        "\n",
        "# 4. Plot data (visualize, visualize, visualize)\n",
        "plt.figure(figsize=(10, 7))\n",
        "plt.scatter(X_blob[:, 0], X_blob[:, 1], c=y_blob, cmap=plt.cm.RdYlBu);"
      ],
      "metadata": {
        "id": "uHGeULOKr_uZ"
      },
      "execution_count": null,
      "outputs": []
    },
    {
      "cell_type": "markdown",
      "source": [
        "### 8.2 Building a multi-class classification model in Pytorch"
      ],
      "metadata": {
        "id": "W7zRjfm94qAP"
      }
    },
    {
      "cell_type": "code",
      "source": [
        " # Create device agnostic code\n",
        " device = \"cuda\" if torch.cuda.is_available() else \"cpu\"\n",
        " device"
      ],
      "metadata": {
        "colab": {
          "base_uri": "https://localhost:8080/",
          "height": 35
        },
        "id": "MrEFODqG59K1",
        "outputId": "7ccd7fd2-ea7c-4aaa-e958-288bf81fbaad"
      },
      "execution_count": 53,
      "outputs": [
        {
          "output_type": "execute_result",
          "data": {
            "text/plain": [
              "'cpu'"
            ],
            "application/vnd.google.colaboratory.intrinsic+json": {
              "type": "string"
            }
          },
          "metadata": {},
          "execution_count": 53
        }
      ]
    },
    {
      "cell_type": "code",
      "source": [
        "# build a multi class classification model\n",
        "class BlobModel(nn.Module):\n",
        "      def __init__(self, input_features, output_features, hidden_units = 8):\n",
        "        \"\"\"\n",
        "        Initialize multi-class classification model.\n",
        "\n",
        "        Args:\n",
        "          input_features (int): Number of input features to the model\n",
        "          output_features (int): Number of outputs features.\n",
        "          hidden_units (int): Number of hidden\n",
        "\n",
        "        \"\"\"\n",
        "        super().__init__()\n",
        "        self.linear_layer_stack  = nn.Sequential(\n",
        "            nn.Linear(in_features = input_features, out_features = hidden_units),\n",
        "            nn.Linear(in_features = hidden_units , out_features = hidden_units),\n",
        "            nn.Linear(in_features = hidden_units, out_features = output_features)\n",
        "        )\n",
        "\n",
        "        def forward(self, x):\n",
        "          return self.linear_layer_stack(x)\n",
        "\n",
        "m4  = BlobModel(input_features = 2, output_features = 4, hidden_units = 8).to(device)\n",
        "m4"
      ],
      "metadata": {
        "id": "yJYSm1uw7fpk"
      },
      "execution_count": null,
      "outputs": []
    },
    {
      "cell_type": "code",
      "source": [
        "### 8.3 Create loss function & optimizer:\n",
        "loss_fn = nn.CrossEntropyLoss()\n",
        "\n",
        "# Optimizer:\n",
        "optimizer = torch.optim.SGD(params = m4.parameters(), lr = 0.1)"
      ],
      "metadata": {
        "id": "D9B1pLjpCaoI"
      },
      "execution_count": null,
      "outputs": []
    },
    {
      "cell_type": "markdown",
      "source": [
        "### 8.4 Getting prediction probabilities for a multi-class Pytorch model"
      ],
      "metadata": {
        "id": "jkE0tSnfCXZH"
      }
    },
    {
      "cell_type": "code",
      "source": [
        "# Let's get some raw outputs of our model (logits)\n",
        "model_4.eval()\n",
        "with torch.inference_mode():\n",
        "  y_logits = model_4(X_blob_test.to(device))\n",
        "\n",
        "y_logits[:10]"
      ],
      "metadata": {
        "id": "uJwUs24VEg2V"
      },
      "execution_count": null,
      "outputs": []
    },
    {
      "cell_type": "code",
      "source": [
        "# Convert our model's logit outputs to prediction probabilities\n",
        "y_pred_probs = torch.softmax(y_logits, dim=1)\n",
        "print(y_logits[:5])\n",
        "print(y_pred_probs[:5])"
      ],
      "metadata": {
        "id": "V9gKJ7uXEkeA"
      },
      "execution_count": null,
      "outputs": []
    },
    {
      "cell_type": "code",
      "source": [
        "# Convert our model's prediction probabilities to prediction labels\n",
        "y_preds = torch.argmax(y_pred_probs, dim=1)\n",
        "y_preds"
      ],
      "metadata": {
        "id": "lYzE4Qt3EoAP"
      },
      "execution_count": null,
      "outputs": []
    },
    {
      "cell_type": "markdown",
      "source": [
        "### 8.5 Creating a training loop and testing loop for a multi-class PyTorch model"
      ],
      "metadata": {
        "id": "WJsTllk5EsOm"
      }
    },
    {
      "cell_type": "code",
      "source": [
        "# Fit the multi-class model to the data\n",
        "torch.manual_seed(42)\n",
        "torch.cuda.manual_seed(42)\n",
        "\n",
        "# Set number of epochs \n",
        "epochs = 100\n",
        "\n",
        "# Put data to the target device\n",
        "X_blob_train, y_blob_train = X_blob_train.to(device), y_blob_train.to(device)\n",
        "X_blob_test, y_blob_test = X_blob_test.to(device), y_blob_test.to(device)\n",
        "\n",
        "# Loop through data\n",
        "for epoch in range(epochs):\n",
        "  ### Training \n",
        "  model_4.train()\n",
        "\n",
        "  y_logits = model_4(X_blob_train)\n",
        "  y_pred = torch.softmax(y_logits, dim=1).argmax(dim=1)\n",
        "\n",
        "  loss = loss_fn(y_logits, y_blob_train)\n",
        "  acc = accuracy_fn(y_true=y_blob_train,\n",
        "                    y_pred=y_pred)\n",
        "  \n",
        "  optimizer.zero_grad()\n",
        "  loss.backward()\n",
        "  optimizer.step()\n",
        "\n",
        "  ### Testing\n",
        "  model_4.eval()\n",
        "  with torch.inference_mode():\n",
        "    test_logits = model_4(X_blob_test)\n",
        "    test_preds = torch.softmax(test_logits, dim=1).argmax(dim=1)\n",
        "    \n",
        "    test_loss = loss_fn(test_logits, y_blob_test)\n",
        "    test_acc = accuracy_fn(y_true=y_blob_test,\n",
        "                           y_pred=test_preds)\n",
        "    \n",
        "  # Print out what's happenin'\n",
        "  if epoch % 10 == 0:\n",
        "    print(f\"Epoch: {epoch} | Loss: {loss:.4f}, Acc: {acc:.2f}% | Test loss: {test_loss:.4f}, Test acc: {test_acc:.2f}%\")"
      ],
      "metadata": {
        "id": "yQlUnWgNEu1t"
      },
      "execution_count": null,
      "outputs": []
    },
    {
      "cell_type": "code",
      "source": [
        "### 8.6 Making and evaluating predictions with a PyTorch multi-class model"
      ],
      "metadata": {
        "id": "aMgnC88AExb8"
      },
      "execution_count": null,
      "outputs": []
    },
    {
      "cell_type": "code",
      "source": [
        "# Make predictions\n",
        "model_4.eval()\n",
        "with torch.inference_mode():\n",
        "  y_logits = model_4(X_blob_test)\n",
        "\n",
        "# View the first 10 predictions\n",
        "y_logits[:10]"
      ],
      "metadata": {
        "id": "TWoCMU9_EoJL"
      },
      "execution_count": null,
      "outputs": []
    },
    {
      "cell_type": "code",
      "source": [
        "# Go from logits -> Prediction probabilities\n",
        "y_pred_probs = torch.softmax(y_logits, dim=1)\n",
        "y_pred_probs[:10]"
      ],
      "metadata": {
        "id": "jZ4DuaFsEoMn"
      },
      "execution_count": null,
      "outputs": []
    },
    {
      "cell_type": "code",
      "source": [
        "# Go from pred probs to pred labels\n",
        "y_preds = torch.argmax(y_pred_probs, dim=1)\n",
        "y_preds[:10]"
      ],
      "metadata": {
        "id": "qieapqVVEmKr"
      },
      "execution_count": null,
      "outputs": []
    },
    {
      "cell_type": "code",
      "source": [
        "plt.figure(figsize=(12, 6))\n",
        "plt.subplot(1, 2, 1)\n",
        "plt.title(\"Train\")\n",
        "plot_decision_boundary(model_4, X_blob_train, y_blob_train)\n",
        "plt.subplot(1, 2, 2)\n",
        "plt.title(\"Test\")\n",
        "plot_decision_boundary(model_4, X_blob_test, y_blob_test)"
      ],
      "metadata": {
        "id": "Zed7AKOTE4QH"
      },
      "execution_count": null,
      "outputs": []
    }
  ]
}