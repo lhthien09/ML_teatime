{
  "nbformat": 4,
  "nbformat_minor": 0,
  "metadata": {
    "colab": {
      "provenance": []
    },
    "kernelspec": {
      "name": "python3",
      "display_name": "Python 3"
    },
    "language_info": {
      "name": "python"
    }
  },
  "cells": [
    {
      "cell_type": "markdown",
      "source": [
        "# Pytorch workflow\n",
        "\n",
        "* Ground truth notebook"
      ],
      "metadata": {
        "id": "9foLEouMuMuN"
      }
    },
    {
      "cell_type": "code",
      "source": [
        "what_were_covering = {1 : 'data (prepare and load)',\n",
        "                                               2: 'build model',\n",
        "                                               3: 'fitting the model to data (training)',\n",
        "                                               4: 'make predictions and evaluate model',\n",
        "                                               5: 'save and load the model',\n",
        "                                               6: 'putting things together'}\n",
        "\n",
        "what_were_covering"
      ],
      "metadata": {
        "colab": {
          "base_uri": "https://localhost:8080/"
        },
        "id": "sG9MUh4DuTCR",
        "outputId": "78d78220-569e-4b15-83c6-e6a9624b0ca6"
      },
      "execution_count": 2,
      "outputs": [
        {
          "output_type": "execute_result",
          "data": {
            "text/plain": [
              "{1: 'data (prepare and load)',\n",
              " 2: 'build model',\n",
              " 3: 'fitting the model to data (training)',\n",
              " 4: 'make predictions and evaluate model',\n",
              " 5: 'save and load the model',\n",
              " 6: 'putting things together'}"
            ]
          },
          "metadata": {},
          "execution_count": 2
        }
      ]
    },
    {
      "cell_type": "code",
      "source": [
        "import torch\n",
        "from torch import nn #nn contains all of Pytorch's building blocks for neural networks\n",
        "import matplotlib.pyplot as plt\n",
        "\n",
        "# Check Pytorch version\n",
        "torch.__version__"
      ],
      "metadata": {
        "colab": {
          "base_uri": "https://localhost:8080/",
          "height": 35
        },
        "id": "eAmZlG_Svvfp",
        "outputId": "7db46c99-a665-4ca5-a483-00edb89e8a47"
      },
      "execution_count": 12,
      "outputs": [
        {
          "output_type": "execute_result",
          "data": {
            "text/plain": [
              "'1.12.1+cu113'"
            ],
            "application/vnd.google.colaboratory.intrinsic+json": {
              "type": "string"
            }
          },
          "metadata": {},
          "execution_count": 12
        }
      ]
    },
    {
      "cell_type": "markdown",
      "source": [
        "## 1. Data (preparing and loading)\n",
        "\n",
        "Data can be almost anything.. in ML.\n",
        "\n",
        "* Excel speasheets\n",
        "* Images of any kind\n",
        "* Videos\n",
        "* Audio\n",
        "* DNA\n",
        "* Text\n",
        "\n",
        "ML is a game of two parts:\n",
        "1. Get data into a numerical representation.\n",
        "2. Build a model to learn patterns in that numerical representation.\n",
        "\n",
        "To showcase this, let's create some linear regression model. We'll use a linear regression formula to make a straight line with known parameters"
      ],
      "metadata": {
        "id": "BdGsb69gwYmh"
      }
    },
    {
      "cell_type": "code",
      "source": [
        "# Create *known* parameters\n",
        "\n",
        "weight = 0.7 \n",
        "bias = 0.3\n",
        "\n",
        "# Create \n",
        "start = 0 \n",
        "end =  1\n",
        "step  =  0.02\n",
        "X = torch.arange(start, end, step).unsqueeze(dim=1)\n",
        "y  = weight* X + bias\n",
        "\n",
        "X[:10], y[:10]"
      ],
      "metadata": {
        "colab": {
          "base_uri": "https://localhost:8080/"
        },
        "id": "ez4LFMmawl4p",
        "outputId": "e33f1a66-cbfe-43a7-cc20-dc0270339620"
      },
      "execution_count": 6,
      "outputs": [
        {
          "output_type": "execute_result",
          "data": {
            "text/plain": [
              "(tensor([[0.0000],\n",
              "         [0.0200],\n",
              "         [0.0400],\n",
              "         [0.0600],\n",
              "         [0.0800],\n",
              "         [0.1000],\n",
              "         [0.1200],\n",
              "         [0.1400],\n",
              "         [0.1600],\n",
              "         [0.1800]]), tensor([[0.3000],\n",
              "         [0.3140],\n",
              "         [0.3280],\n",
              "         [0.3420],\n",
              "         [0.3560],\n",
              "         [0.3700],\n",
              "         [0.3840],\n",
              "         [0.3980],\n",
              "         [0.4120],\n",
              "         [0.4260]]))"
            ]
          },
          "metadata": {},
          "execution_count": 6
        }
      ]
    },
    {
      "cell_type": "markdown",
      "source": [
        "### Splitting data into train & test sets "
      ],
      "metadata": {
        "id": "N-4A9aaRCKgX"
      }
    },
    {
      "cell_type": "code",
      "source": [
        "train_split = int(0.8*len(X))\n",
        "X_train, y_train = X[:train_split], y[:train_split]\n",
        "X_test, y_test = X[train_split:], y[train_split:]\n",
        "\n",
        "len(X_train), len(y_train), len(X_test), len(y_test)"
      ],
      "metadata": {
        "colab": {
          "base_uri": "https://localhost:8080/"
        },
        "id": "NqvZJzdkCO6B",
        "outputId": "b62d82bf-3453-4a84-c0c3-460f473f2a3f"
      },
      "execution_count": 7,
      "outputs": [
        {
          "output_type": "execute_result",
          "data": {
            "text/plain": [
              "(40, 40, 10, 10)"
            ]
          },
          "metadata": {},
          "execution_count": 7
        }
      ]
    },
    {
      "cell_type": "markdown",
      "source": [
        "\"Visualize, visualize, visualize\" -> motto comes in!"
      ],
      "metadata": {
        "id": "aSmn75_dCth0"
      }
    },
    {
      "cell_type": "code",
      "source": [
        "def plot_predictions(train_data =  X_train, \n",
        "                                         train_labels = y_train,\n",
        "                                         test_data = X_test,\n",
        "                                         test_labels = y_test,\n",
        "                                         predictions = None):\n",
        "  '''\n",
        "  Plots training data, test data and compares predictions\n",
        "  '''\n",
        "  plt.figure(figsize = (10, 7))\n",
        "\n",
        "  # Plot training data in blue\n",
        "  plt.scatter(train_data, train_labels, c = 'b', s= 4, label = \"training data\")\n",
        "  \n",
        "  # Plot test data in green\n",
        "  plt.scatter(test_data, test_labels, c= 'g', label = 'Testing data')\n",
        "\n",
        "  # Are there predictions?\n",
        "  if predictions is not None:\n",
        "          plt.scatter(test_data, predictions, c= 'r', s = 4, label = 'predictions')\n",
        "  \n",
        "  plt.legend(prop= {'size': 14});"
      ],
      "metadata": {
        "id": "Gmm6ma_YBx0G"
      },
      "execution_count": 13,
      "outputs": []
    },
    {
      "cell_type": "code",
      "source": [
        "plot_predictions()"
      ],
      "metadata": {
        "colab": {
          "base_uri": "https://localhost:8080/",
          "height": 428
        },
        "id": "Sn_fEKsrDvH5",
        "outputId": "578318e4-ec6d-4555-c9b5-09b4de148f00"
      },
      "execution_count": 16,
      "outputs": [
        {
          "output_type": "display_data",
          "data": {
            "text/plain": [
              "<Figure size 720x504 with 1 Axes>"
            ],
            "image/png": "[encoded data removed]"
          },
          "metadata": {
            "needs_background": "light"
          }
        }
      ]
    },
    {
      "cell_type": "markdown",
      "source": [
        "## 2. Build model\n",
        "\n",
        "Our first Pytorch model!\n",
        "\n",
        "Very interesting... let's do it!\n",
        "\n",
        "What out model does:\n",
        "* Start with random values (weight & bias)\n",
        "* Look at training data and adjust the random values to better represent (or get closer to) the ideal values.\n",
        "\n",
        "--> With Gradient descent + Back Propagation."
      ],
      "metadata": {
        "id": "127bOjBdES0R"
      }
    },
    {
      "cell_type": "code",
      "source": [
        "from torch import nn\n",
        "# Create linear regresison model class\n",
        "\n",
        "class LinearRegressionModel(nn.Module): # <- subclass nn.Module\n",
        "          def __init__(self):\n",
        "              super().__init__()\n",
        "              self.weights = nn.Parameter(torch.randn(1,\n",
        "                                                                                              requires_grad = True,\n",
        "                                                                                              dtype =  torch.float ))\n",
        "              self.bias = nn.Parameter(torch.randn(1, \n",
        "                                                                                      requires_grad = True,\n",
        "                                                                                      dtype = torch.float))\n",
        "              \n",
        "          # Forward() method to define the computation in the model (ANY SUBCLASS OF NN requires forward)\n",
        "          def forward(self, x: torch.Tensor) -> torch.Tensor: # \"x\" is the input data\n",
        "              return self.weights * x + self.bias  # regression model."
      ],
      "metadata": {
        "id": "fn5Hn7ZLEZlh"
      },
      "execution_count": 22,
      "outputs": []
    },
    {
      "cell_type": "markdown",
      "source": [
        "### Pytorch model building essentials:\n",
        "\n",
        "* torch.nn  - contains all of the buildings for computational graphs (a NN considered as computational graph).\n",
        "* torch.nn.Parameter - what parameters should our model learn\n",
        "* torch.nn.Module - the base Class \n",
        "* torch.optim - optimizer\n",
        "* def forward() - All nn.Module subclasses require you to overwrite what happens "
      ],
      "metadata": {
        "id": "8FWfGs_EN1Vq"
      }
    },
    {
      "cell_type": "markdown",
      "source": [
        "### Checking the contents of our Pytorch model\n",
        "\n"
      ],
      "metadata": {
        "id": "GLKqRZFHPXSV"
      }
    },
    {
      "cell_type": "code",
      "source": [
        "# Create a random seed\n",
        "torch.manual_seed(42)\n",
        "\n",
        "# Create an instance of the model (this is a subclass of nn.Module)\n",
        "model_0 = LinearRegressionModel()\n",
        "\n",
        "# Check out the parameters\n",
        "list(model_0.parameters())"
      ],
      "metadata": {
        "colab": {
          "base_uri": "https://localhost:8080/"
        },
        "id": "Q_uiRpQiPZz7",
        "outputId": "c1bfbcdf-ca66-4bfc-92c9-cc7cb082f7f7"
      },
      "execution_count": 18,
      "outputs": [
        {
          "output_type": "execute_result",
          "data": {
            "text/plain": [
              "[Parameter containing:\n",
              " tensor([0.3367], requires_grad=True), Parameter containing:\n",
              " tensor([0.1288], requires_grad=True)]"
            ]
          },
          "metadata": {},
          "execution_count": 18
        }
      ]
    },
    {
      "cell_type": "code",
      "source": [
        "# List named parameters\n",
        "model_0.state_dict()"
      ],
      "metadata": {
        "colab": {
          "base_uri": "https://localhost:8080/"
        },
        "id": "oX9YF2xmOQuW",
        "outputId": "38abbbfd-a7ae-4b3b-f9c5-75418044bcba"
      },
      "execution_count": 19,
      "outputs": [
        {
          "output_type": "execute_result",
          "data": {
            "text/plain": [
              "OrderedDict([('weights', tensor([0.3367])), ('bias', tensor([0.1288]))])"
            ]
          },
          "metadata": {},
          "execution_count": 19
        }
      ]
    },
    {
      "cell_type": "code",
      "source": [
        "weight, bias"
      ],
      "metadata": {
        "colab": {
          "base_uri": "https://localhost:8080/"
        },
        "id": "tlFL2EczONuL",
        "outputId": "928df20f-e3d3-444f-8003-d8b90c7c1241"
      },
      "execution_count": 20,
      "outputs": [
        {
          "output_type": "execute_result",
          "data": {
            "text/plain": [
              "(0.7, 0.3)"
            ]
          },
          "metadata": {},
          "execution_count": 20
        }
      ]
    },
    {
      "cell_type": "markdown",
      "source": [
        "### Making prediction using `torch.inference_mode()`\n",
        "\n",
        "To check out our model's predictive power, let's see how well it predicts `y_test` based on `X_test`.\n",
        "\n",
        "When we pass data through our model, it's going to run it through the `forward()` method.\n"
      ],
      "metadata": {
        "id": "0n4zq2QHRf4D"
      }
    },
    {
      "cell_type": "code",
      "source": [
        "X_test, y_test"
      ],
      "metadata": {
        "colab": {
          "base_uri": "https://localhost:8080/"
        },
        "id": "leAC8LKkSOr0",
        "outputId": "0efcea45-abbf-4f70-e464-06e95195edaa"
      },
      "execution_count": 21,
      "outputs": [
        {
          "output_type": "execute_result",
          "data": {
            "text/plain": [
              "(tensor([[0.8000],\n",
              "         [0.8200],\n",
              "         [0.8400],\n",
              "         [0.8600],\n",
              "         [0.8800],\n",
              "         [0.9000],\n",
              "         [0.9200],\n",
              "         [0.9400],\n",
              "         [0.9600],\n",
              "         [0.9800]]), tensor([[0.8600],\n",
              "         [0.8740],\n",
              "         [0.8880],\n",
              "         [0.9020],\n",
              "         [0.9160],\n",
              "         [0.9300],\n",
              "         [0.9440],\n",
              "         [0.9580],\n",
              "         [0.9720],\n",
              "         [0.9860]]))"
            ]
          },
          "metadata": {},
          "execution_count": 21
        }
      ]
    },
    {
      "cell_type": "code",
      "source": [
        "# Make predictions with model\n",
        "\n",
        "with torch.inference_mode():\n",
        "      y_preds = model_0(X_test)\n",
        "\n",
        "with torch.no_grad():\n",
        "      y_preds = model_0(X_test)\n",
        "\n",
        "y_preds"
      ],
      "metadata": {
        "colab": {
          "base_uri": "https://localhost:8080/"
        },
        "id": "mLVsY2FHSHnY",
        "outputId": "9f7b9b5f-c573-4478-cd54-b18d731e90fd"
      },
      "execution_count": 24,
      "outputs": [
        {
          "output_type": "execute_result",
          "data": {
            "text/plain": [
              "tensor([[0.3982],\n",
              "        [0.4049],\n",
              "        [0.4116],\n",
              "        [0.4184],\n",
              "        [0.4251],\n",
              "        [0.4318],\n",
              "        [0.4386],\n",
              "        [0.4453],\n",
              "        [0.4520],\n",
              "        [0.4588]])"
            ]
          },
          "metadata": {},
          "execution_count": 24
        }
      ]
    },
    {
      "cell_type": "code",
      "source": [
        "y_preds = model_0(X_test)\n",
        "y_preds"
      ],
      "metadata": {
        "colab": {
          "base_uri": "https://localhost:8080/"
        },
        "id": "qckxMRn7TUnc",
        "outputId": "f6b78c20-70fd-46cc-826e-74a72798917c"
      },
      "execution_count": 27,
      "outputs": [
        {
          "output_type": "execute_result",
          "data": {
            "text/plain": [
              "tensor([[0.3982],\n",
              "        [0.4049],\n",
              "        [0.4116],\n",
              "        [0.4184],\n",
              "        [0.4251],\n",
              "        [0.4318],\n",
              "        [0.4386],\n",
              "        [0.4453],\n",
              "        [0.4520],\n",
              "        [0.4588]], grad_fn=<AddBackward0>)"
            ]
          },
          "metadata": {},
          "execution_count": 27
        }
      ]
    },
    {
      "cell_type": "code",
      "source": [
        "y_test"
      ],
      "metadata": {
        "colab": {
          "base_uri": "https://localhost:8080/"
        },
        "id": "ducQi8xQS-Du",
        "outputId": "ace99356-94d8-48fc-828a-eb07094ad758"
      },
      "execution_count": 25,
      "outputs": [
        {
          "output_type": "execute_result",
          "data": {
            "text/plain": [
              "tensor([[0.8600],\n",
              "        [0.8740],\n",
              "        [0.8880],\n",
              "        [0.9020],\n",
              "        [0.9160],\n",
              "        [0.9300],\n",
              "        [0.9440],\n",
              "        [0.9580],\n",
              "        [0.9720],\n",
              "        [0.9860]])"
            ]
          },
          "metadata": {},
          "execution_count": 25
        }
      ]
    },
    {
      "cell_type": "code",
      "source": [
        "plot_predictions(predictions = y_preds)"
      ],
      "metadata": {
        "colab": {
          "base_uri": "https://localhost:8080/",
          "height": 428
        },
        "id": "5kPbpsXnTBc0",
        "outputId": "c69cbce5-e578-4798-ee4f-8176548e3f1e"
      },
      "execution_count": 26,
      "outputs": [
        {
          "output_type": "display_data",
          "data": {
            "text/plain": [
              "<Figure size 720x504 with 1 Axes>"
            ],
            "image/png": "[encoded data removed]"
          },
          "metadata": {
            "needs_background": "light"
          }
        }
      ]
    },
    {
      "cell_type": "markdown",
      "source": [
        "## 3. Train model\n",
        "\n",
        "The whole idea: move from unknown parameters  --> known parameters.\n",
        "\n",
        "* Loss function ~ Cost function.\n",
        "\n",
        "* **Lost function:** measures how wrong your model's prediction is to the target.\n",
        "\n",
        "* **Optimizer:** takes into account the loss and adjust the model's parameters\n",
        "\n",
        "Specifically we need\n",
        "* A training loop\n",
        "* A testing loop"
      ],
      "metadata": {
        "id": "Z5xY1FngUoSn"
      }
    },
    {
      "cell_type": "code",
      "source": [
        "list(model_0.parameters())"
      ],
      "metadata": {
        "colab": {
          "base_uri": "https://localhost:8080/"
        },
        "id": "tlso0-eyUxLa",
        "outputId": "47b1e921-f1d8-4ccd-fb21-2d178f958bbc"
      },
      "execution_count": 28,
      "outputs": [
        {
          "output_type": "execute_result",
          "data": {
            "text/plain": [
              "[Parameter containing:\n",
              " tensor([0.3367], requires_grad=True), Parameter containing:\n",
              " tensor([0.1288], requires_grad=True)]"
            ]
          },
          "metadata": {},
          "execution_count": 28
        }
      ]
    },
    {
      "cell_type": "code",
      "source": [
        "model_0.state_dict()"
      ],
      "metadata": {
        "colab": {
          "base_uri": "https://localhost:8080/"
        },
        "id": "VMZqR4IgaYqI",
        "outputId": "ae563049-fe3a-4d56-8e4f-885666710f00"
      },
      "execution_count": 29,
      "outputs": [
        {
          "output_type": "execute_result",
          "data": {
            "text/plain": [
              "OrderedDict([('weights', tensor([0.3367])), ('bias', tensor([0.1288]))])"
            ]
          },
          "metadata": {},
          "execution_count": 29
        }
      ]
    },
    {
      "cell_type": "code",
      "source": [
        "# Setup a loss function\n",
        "loss_fn = nn.L1Loss()\n",
        "\n",
        "\n",
        "# Setup an optimizer\n",
        "optimizer = torch.optim.SGD(model_0.parameters(),\n",
        "                                                         lr = 0.01  ) # learning rate"
      ],
      "metadata": {
        "id": "WRFIX0JsaceT"
      },
      "execution_count": 30,
      "outputs": []
    },
    {
      "cell_type": "markdown",
      "source": [
        "### Building a training loop (and testing) in Pytorch"
      ],
      "metadata": {
        "id": "9casAw-5eJcK"
      }
    },
    {
      "cell_type": "code",
      "source": [],
      "metadata": {
        "id": "Hzcvm26seMY_"
      },
      "execution_count": null,
      "outputs": []
    },
    {
      "cell_type": "code",
      "source": [],
      "metadata": {
        "id": "px81eijvblR8"
      },
      "execution_count": null,
      "outputs": []
    }
  ]
}